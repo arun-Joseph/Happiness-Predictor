{
 "cells": [
  {
   "cell_type": "code",
   "execution_count": 1,
   "metadata": {},
   "outputs": [],
   "source": [
    "import numpy as np\n",
    "import pandas as pd\n",
    "import matplotlib.pyplot as plt\n",
    "from sklearn.ensemble import ExtraTreesClassifier\n",
    "from sklearn.metrics import r2_score"
   ]
  },
  {
   "cell_type": "code",
   "execution_count": 2,
   "metadata": {
    "scrolled": true
   },
   "outputs": [],
   "source": [
    "from pandas.plotting import scatter_matrix\n",
    "data = pd.read_pickle('happiness_data.pkl')\n",
    "data.drop(columns=['Country', 'Year', 'Score','High','Low', 'Economy', 'Family', 'Health', 'Freedom', 'Trust', 'Generosity', 'Dystopia'], axis=1, inplace=True)\n",
    "#graph = scatter_matrix(data[['Ind 11','Ind 3']], alpha=0.2, figsize=(6, 6), diagonal='kde')"
   ]
  },
  {
   "cell_type": "code",
   "execution_count": 3,
   "metadata": {},
   "outputs": [],
   "source": [
    "indicator_table=data.corr()\n",
    "\n"
   ]
  },
  {
   "cell_type": "code",
   "execution_count": 4,
   "metadata": {},
   "outputs": [],
   "source": [
    "from sklearn import preprocessing\n",
    "normalised_data = preprocessing.normalize(indicator_table)\n",
    "normalised_df =pd.DataFrame(normalised_data)\n"
   ]
  },
  {
   "cell_type": "code",
   "execution_count": 5,
   "metadata": {},
   "outputs": [],
   "source": [
    "from sklearn.preprocessing import MinMaxScaler\n",
    "scaler = MinMaxScaler(feature_range=(0, 1))\n",
    "rescaled_indicator = scaler.fit_transform(indicator_table)\n",
    "rescaled_df =pd.DataFrame(rescaled_indicator)\n"
   ]
  },
  {
   "cell_type": "code",
   "execution_count": 6,
   "metadata": {},
   "outputs": [],
   "source": [
    "from sklearn.feature_selection import SelectKBest\n",
    "from sklearn.feature_selection import chi2\n",
    "import scipy.stats as stats\n"
   ]
  },
  {
   "cell_type": "code",
   "execution_count": 7,
   "metadata": {},
   "outputs": [],
   "source": [
    "df = pd.read_pickle('happiness_data.pkl')\n",
    "#df.drop(columns=['Ind 4','Ind 24','Ind 9','Ind 10','Ind 11','Ind 12','Ind 33'],axis=1,inplace=True)\n",
    "years_train = [2015, 2016]\n",
    "years_test = [2017]\n",
    "train_features = df.loc[df['Year'].isin(years_train)]\n",
    "test_features = df.loc[df['Year'].isin(years_test)]\n",
    "train_features.reset_index(inplace=True, drop=True)\n",
    "test_features.reset_index(inplace=True, drop=True)\n",
    "df_train = train_features.drop(columns=['Country','Year','Score','Low','High','Economy','Family','Health','Freedom','Trust','Generosity','Dystopia'],axis=1)\n",
    "df_test = test_features.drop(columns=['Country','Year','Score','Low','High','Economy','Family','Health','Freedom','Trust','Generosity','Dystopia'],axis=1)\n"
   ]
  },
  {
   "cell_type": "code",
   "execution_count": 8,
   "metadata": {},
   "outputs": [],
   "source": [
    "#Fetching training and test data set\n",
    "score_train = pd.DataFrame(train_features['Score'])\n",
    "economy_train = pd.DataFrame(train_features['Economy'])\n",
    "family_train = pd.DataFrame(train_features['Family'])\n",
    "health_train = pd.DataFrame(train_features['Health'])\n",
    "freedom_train = pd.DataFrame(train_features['Freedom'])\n",
    "trust_train = pd.DataFrame(train_features['Trust'])\n",
    "generosity_train = pd.DataFrame(train_features['Generosity'])\n",
    "dystopia_train = pd.DataFrame(train_features['Dystopia'])\n",
    "\n",
    "score_test = pd.DataFrame(test_features['Score'])\n",
    "economy_test = pd.DataFrame(test_features['Economy'])\n",
    "family_test = pd.DataFrame(test_features['Family'])\n",
    "health_test = pd.DataFrame(test_features['Health'])\n",
    "freedom_test = pd.DataFrame(test_features['Freedom'])\n",
    "trust_test = pd.DataFrame(test_features['Trust'])\n",
    "generosity_test = pd.DataFrame(test_features['Generosity'])\n",
    "dystopia_test = pd.DataFrame(test_features['Dystopia'])\n",
    "\n"
   ]
  },
  {
   "cell_type": "code",
   "execution_count": 9,
   "metadata": {},
   "outputs": [],
   "source": [
    "\n",
    "from sklearn.preprocessing import MinMaxScaler\n",
    "scaler = MinMaxScaler(feature_range=(0, 10))\n",
    "rescaled_X = scaler.fit_transform(df_train)\n",
    "df_train_new =pd.DataFrame(rescaled_X)\n",
    "\n",
    "\n",
    "rescaled_Y = scaler.fit_transform(economy_train)\n",
    "economy_train_new =pd.DataFrame(rescaled_Y)\n",
    "\n"
   ]
  },
  {
   "cell_type": "code",
   "execution_count": null,
   "metadata": {},
   "outputs": [],
   "source": []
  },
  {
   "cell_type": "code",
   "execution_count": 10,
   "metadata": {},
   "outputs": [],
   "source": [
    "from sklearn.feature_selection import RFE\n",
    "from sklearn import linear_model"
   ]
  },
  {
   "cell_type": "code",
   "execution_count": 11,
   "metadata": {},
   "outputs": [
    {
     "name": "stdout",
     "output_type": "stream",
     "text": [
      "Num Features:  1\n",
      "Selected Features:  [False False  True False False False False False False False False False\n",
      " False False False False False False False False False False False False\n",
      " False False False False False False False False False]\n",
      "Feature Ranking:  [14 18  1  2 10 17 13  3  4  5  6  7  9 19 26 16 20 33 11 12 25 27  8 15\n",
      " 32 22 24 23 31 21 30 28 29]\n"
     ]
    }
   ],
   "source": [
    "\n",
    "model = linear_model.LinearRegression()\n",
    "rfe = RFE(model, 1)\n",
    "fit = rfe.fit(df_train, economy_train.values.ravel())\n",
    "print(\"Num Features: \",fit.n_features_) \n",
    "print(\"Selected Features: \",fit.support_)\n",
    "print(\"Feature Ranking: \",fit.ranking_)\n",
    "\n",
    "\n",
    "\n",
    "df_economy_train=df_train.drop(columns=['Ind 4','Ind 24','Ind 9','Ind 10','Ind 11','Ind 12','Ind 33'],axis=1)\n",
    "df_economy_test=df_test.drop(columns=['Ind 4','Ind 24','Ind 9','Ind 10','Ind 11','Ind 12','Ind 33'],axis=1)\n",
    "\n",
    "df_economy_train.drop(columns=['Ind 15','Ind 18','Ind 22','Ind 25','Ind 29','Ind 31','Ind 32'],axis=1,inplace = True)\n",
    "df_economy_test.drop(columns=['Ind 15','Ind 18','Ind 22','Ind 25','Ind 29','Ind 31','Ind 32'],axis=1,inplace = True)\n",
    "\n",
    "df_economy_train.to_pickle('economy_train.pkl')\n",
    "df_economy_test.to_pickle('economy_test.pkl')"
   ]
  },
  {
   "cell_type": "code",
   "execution_count": 12,
   "metadata": {},
   "outputs": [
    {
     "name": "stdout",
     "output_type": "stream",
     "text": [
      "Num Features:  1\n",
      "Selected Features:  [False False False False  True False False False False False False False\n",
      " False False False False False False False False False False False False\n",
      " False False False False False False False False False]\n",
      "Feature Ranking:  [23 17  7  6  1  9 12 10 15  4  3  2 11 19 21 29 16 33  8 22 27 18  5 24\n",
      " 32 14 28 25 31 20 26 13 30]\n"
     ]
    }
   ],
   "source": [
    "model = linear_model.LinearRegression()\n",
    "rfe = RFE(model, 1)\n",
    "fit = rfe.fit(df_train, family_train.values.ravel())\n",
    "print(\"Num Features: \",fit.n_features_) \n",
    "print(\"Selected Features: \",fit.support_)\n",
    "print(\"Feature Ranking: \",fit.ranking_)\n",
    "\n",
    "\n",
    "col = ['Ind 5','Ind 8','Ind 19','Ind 6']\n",
    "df_family_train=df_train.drop(columns=col,axis=1)\n",
    "df_family_test=df_test.drop(columns=col,axis=1)\n",
    "\n",
    "\n",
    "df_family_train.to_pickle('family_train.pkl')\n",
    "df_family_test.to_pickle('family_test.pkl')\n",
    "#pd.DataFrame(fit.ranking_,index =range(33))"
   ]
  },
  {
   "cell_type": "code",
   "execution_count": 13,
   "metadata": {},
   "outputs": [
    {
     "name": "stdout",
     "output_type": "stream",
     "text": [
      "Num Features:  1\n",
      "Selected Features:  [False False False False False False False False False False False False\n",
      "  True False False False False False False False False False False False\n",
      " False False False False False False False False False]\n",
      "Feature Ranking:  [22 14  9  8  2 15 11 10  3  6  4  5  1 25 20 24 17 33 16 28 19 23 12 13\n",
      " 32 26 21 27 31 18 30  7 29]\n"
     ]
    }
   ],
   "source": [
    "model = linear_model.LinearRegression()\n",
    "rfe = RFE(model, 1)\n",
    "fit = rfe.fit(df_train, freedom_train.values.ravel())\n",
    "print(\"Num Features: \",fit.n_features_) \n",
    "print(\"Selected Features: \",fit.support_)\n",
    "print(\"Feature Ranking: \",fit.ranking_)\n",
    "\n",
    "col = ['Ind 13','Ind 5','Ind 10','Ind 4','Ind 24','Ind 2']\n",
    "df_freedom_train=df_train.drop(columns=col,axis=1)\n",
    "df_freedom_test=df_test.drop(columns=col,axis=1)\n",
    "\n",
    "\n",
    "df_freedom_train.to_pickle('freedom_train.pkl')\n",
    "df_freedom_test.to_pickle('freedom_test.pkl')\n",
    "\n",
    "\n",
    "#pd.DataFrame(fit.ranking_,index =range(1,34))"
   ]
  },
  {
   "cell_type": "code",
   "execution_count": 14,
   "metadata": {},
   "outputs": [
    {
     "name": "stdout",
     "output_type": "stream",
     "text": [
      "Num Features:  1\n",
      "Selected Features:  [False False False False False False False  True False False False False\n",
      " False False False False False False False False False False False False\n",
      " False False False False False False False False False]\n",
      "Feature Ranking:  [14 16 12 13 11 28  8  1  6  3  4  5  2 27 20 23 21 33 10 25 24 30  7 22\n",
      " 32 15 19 18 31 17 29  9 26]\n"
     ]
    }
   ],
   "source": [
    "model = linear_model.LinearRegression()\n",
    "rfe = RFE(model, 1)\n",
    "fit = rfe.fit(df_train, health_train.values.ravel())\n",
    "print(\"Num Features: \",fit.n_features_) \n",
    "print(\"Selected Features: \",fit.support_)\n",
    "print(\"Feature Ranking: \",fit.ranking_)\n",
    "\n",
    "col = ['Ind 8','Ind 13','Ind 23','Ind 7','Ind 19','Ind 1']\n",
    "df_health_train=df_train.drop(columns=col,axis=1)\n",
    "df_health_test=df_test.drop(columns=col,axis=1)\n",
    "\n",
    "\n",
    "\n",
    "df_health_train.to_pickle('health_train.pkl')\n",
    "df_health_test.to_pickle('health_test.pkl')\n",
    "\n",
    "\n",
    "#pd.DataFrame(fit.ranking_,index =range(1,34))"
   ]
  },
  {
   "cell_type": "code",
   "execution_count": 15,
   "metadata": {},
   "outputs": [
    {
     "name": "stdout",
     "output_type": "stream",
     "text": [
      "Num Features:  1\n",
      "Selected Features:  [False False False False False False False False  True False False False\n",
      " False False False False False False False False False False False False\n",
      " False False False False False False False False False]\n",
      "Feature Ranking:  [17 19  5  6  8 23 12 11  1  2  3  4  7 24 29 26 30 33  9 18 14 20 16 15\n",
      " 32 13 21 28 31 25 27 10 22]\n"
     ]
    }
   ],
   "source": [
    "\n",
    "model = linear_model.LinearRegression()\n",
    "rfe = RFE(model, 1)\n",
    "fit = rfe.fit(df_train, dystopia_train.values.ravel())\n",
    "print(\"Num Features: \",fit.n_features_) \n",
    "print(\"Selected Features: \",fit.support_)\n",
    "print(\"Feature Ranking: \",fit.ranking_)\n",
    "\n",
    "df_dystopia_train=df_train.drop(columns=['Ind 4','Ind 24','Ind 9','Ind 10','Ind 11','Ind 12','Ind 33'],axis=1)\n",
    "df_dystopia_test=df_test.drop(columns=['Ind 4','Ind 24','Ind 9','Ind 10','Ind 11','Ind 12','Ind 33'],axis=1)\n",
    "\n",
    "df_dystopia_train.drop(columns=['Ind 15','Ind 17','Ind 18','Ind 25','Ind 29','Ind 31','Ind 13','Ind 3','Ind 5'],axis=1,inplace = True)\n",
    "df_dystopia_test.drop(columns=['Ind 15','Ind 17','Ind 18','Ind 25','Ind 29','Ind 31','Ind 13','Ind 3','Ind 5'],axis=1,inplace = True)\n",
    "\n",
    "df_dystopia_train.to_pickle('dystopia_train.pkl')\n",
    "df_dystopia_test.to_pickle('dystopia_test.pkl')\n",
    "\n"
   ]
  },
  {
   "cell_type": "code",
   "execution_count": 16,
   "metadata": {},
   "outputs": [
    {
     "name": "stdout",
     "output_type": "stream",
     "text": [
      "Num Features:  1\n",
      "Selected Features:  [False False False False False False False False False False False False\n",
      " False False False False False False  True False False False False False\n",
      " False False False False False False False False False]\n",
      "Feature Ranking:  [19 22  3  4 13 24  8  5  9 10 11 12  7 28 16 18 26 33  1 25 27 29  6 21\n",
      " 32 14 23 15 31 17 30  2 20]\n"
     ]
    }
   ],
   "source": [
    "model = linear_model.LinearRegression()\n",
    "rfe = RFE(model, 1)\n",
    "fit = rfe.fit(df_train, generosity_train.values.ravel())\n",
    "print(\"Num Features: \",fit.n_features_) \n",
    "print(\"Selected Features: \",fit.support_)\n",
    "print(\"Feature Ranking: \",fit.ranking_)\n",
    "\n",
    "col = ['Ind 19','Ind 4','Ind 8','Ind 23','Ind 7','Ind 11','Ind 5','Ind 28']\n",
    "df_generosity_train=df_train.drop(columns=col,axis=1)\n",
    "df_generosity_test=df_test.drop(columns=col,axis=1)\n",
    "\n",
    "\n",
    "\n",
    "df_generosity_train.to_pickle('generosity_train.pkl')\n",
    "df_generosity_test.to_pickle('generosity_test.pkl')\n",
    "\n",
    "#pd.DataFrame(fit.ranking_,index =range(1,34))"
   ]
  },
  {
   "cell_type": "code",
   "execution_count": 17,
   "metadata": {},
   "outputs": [
    {
     "name": "stdout",
     "output_type": "stream",
     "text": [
      "Num Features:  1\n",
      "Selected Features:  [False False False False False False False False False False False False\n",
      "  True False False False False False False False False False False False\n",
      " False False False False False False False False False]\n",
      "Feature Ranking:  [22 24  8  6  5 27 10  9  3  7  2  4  1 15 28 16 11 33 19 12 29 25 21 20\n",
      " 32 17 18 26 31 13 30 14 23]\n"
     ]
    }
   ],
   "source": [
    "model = linear_model.LinearRegression()\n",
    "rfe = RFE(model, 1)\n",
    "fit = rfe.fit(df_train, trust_train.values.ravel())\n",
    "print(\"Num Features: \",fit.n_features_) \n",
    "print(\"Selected Features: \",fit.support_)\n",
    "print(\"Feature Ranking: \",fit.ranking_)\n",
    "\n",
    "col=['Ind 13','Ind 11','Ind 12','Ind 5','Ind 8','Ind 17','Ind 30']\n",
    "df_trust_train=df_train.drop(columns=col,axis=1)\n",
    "df_trust_test=df_test.drop(columns=col,axis=1)\n",
    "\n",
    "\n",
    "\n",
    "df_trust_train.to_pickle('trust_train.pkl')\n",
    "df_trust_test.to_pickle('trust_test.pkl')\n",
    "\n",
    "#pd.DataFrame(fit.ranking_,index =range(1,34))"
   ]
  },
  {
   "cell_type": "code",
   "execution_count": 18,
   "metadata": {},
   "outputs": [
    {
     "name": "stdout",
     "output_type": "stream",
     "text": [
      "Explained Variance:  [9.99999995e-01 4.68875251e-09 3.87968138e-13]\n",
      "[[ 1.58787282e-12  3.51496609e-13  5.73951143e-15  5.31511399e-14\n",
      "  -2.95037189e-14  2.25883734e-13 -8.87591355e-13 -5.47974897e-13\n",
      "   5.62894869e-15  5.96986318e-14  5.25878420e-13  5.86814774e-13\n",
      "   2.14834840e-14 -1.08611427e-13  1.78244444e-13 -1.75035994e-13\n",
      "  -5.69659919e-13  9.99999999e-01 -6.39609295e-14  7.51563116e-13\n",
      "   4.39693034e-13 -2.15683735e-13 -8.43992377e-13 -2.14362508e-12\n",
      "   4.59474541e-05 -2.06185181e-13 -7.68744233e-13 -5.56845511e-13\n",
      "   5.71959528e-07 -2.97390941e-13 -3.84434487e-12 -2.46579701e-13\n",
      "   9.21519647e-13]\n",
      " [ 1.67181896e-09 -2.05661435e-09  3.20122117e-09  3.31789341e-09\n",
      "  -1.56166803e-09  1.02048163e-08 -2.72893252e-09  1.74309896e-09\n",
      "  -1.08280067e-10  1.86314792e-09  7.90193269e-09  6.37885040e-09\n",
      "  -1.00727285e-09  7.13658953e-09 -5.29686779e-09 -6.21572755e-09\n",
      "  -3.98072789e-09 -4.59485876e-05  3.62385105e-09  1.14261496e-08\n",
      "   4.45140965e-09  1.60825864e-09  1.43136572e-08  2.48812393e-08\n",
      "   9.99997642e-01  5.73793013e-09  5.43736713e-09 -1.47892631e-09\n",
      "   2.17108658e-03 -2.38747717e-09 -5.22427665e-08 -2.27911327e-09\n",
      "   8.43183244e-09]\n",
      " [-1.47539878e-06 -1.37032152e-08 -4.58637468e-07 -4.74658958e-07\n",
      "   1.73543772e-08 -4.18388521e-07  9.15876930e-08  4.64397195e-07\n",
      "   6.93091267e-07  1.98104283e-06  4.49610610e-07 -1.51014117e-06\n",
      "   1.62468036e-07 -5.79837511e-08 -1.83649620e-07 -4.24565918e-07\n",
      "   7.86869498e-08 -4.72202279e-07 -2.84976716e-08  3.16007079e-07\n",
      "  -2.02696490e-06 -3.25630666e-07  2.54977856e-07  7.67988076e-07\n",
      "  -2.17108660e-03  5.31766918e-07  1.51185941e-06  1.64347344e-06\n",
      "   9.99997643e-01 -4.78412154e-07 -8.59148462e-06  1.90328784e-07\n",
      "   2.51980710e-06]]\n"
     ]
    }
   ],
   "source": [
    "from sklearn.decomposition import PCA\n",
    "pca = PCA(n_components=3)\n",
    "fit = pca.fit(df_test)\n",
    "print(\"Explained Variance: \",fit.explained_variance_ratio_)\n",
    "print(fit.components_)"
   ]
  },
  {
   "cell_type": "code",
   "execution_count": null,
   "metadata": {},
   "outputs": [],
   "source": []
  },
  {
   "cell_type": "code",
   "execution_count": null,
   "metadata": {},
   "outputs": [],
   "source": []
  }
 ],
 "metadata": {
  "kernelspec": {
   "display_name": "Python 3",
   "language": "python",
   "name": "python3"
  },
  "language_info": {
   "codemirror_mode": {
    "name": "ipython",
    "version": 3
   },
   "file_extension": ".py",
   "mimetype": "text/x-python",
   "name": "python",
   "nbconvert_exporter": "python",
   "pygments_lexer": "ipython3",
   "version": "3.6.7"
  }
 },
 "nbformat": 4,
 "nbformat_minor": 2
}
