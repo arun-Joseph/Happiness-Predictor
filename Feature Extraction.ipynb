{
 "cells": [
  {
   "cell_type": "markdown",
   "metadata": {},
   "source": [
    "# Feature Extraction"
   ]
  },
  {
   "cell_type": "code",
   "execution_count": 1,
   "metadata": {},
   "outputs": [],
   "source": [
    "import numpy as np\n",
    "import pandas as pd\n",
    "import matplotlib.pyplot as plt\n",
    "from sklearn.ensemble import ExtraTreesClassifier\n",
    "from sklearn.metrics import r2_score"
   ]
  },
  {
   "cell_type": "code",
   "execution_count": 2,
   "metadata": {},
   "outputs": [],
   "source": [
    "df = pd.read_pickle('data/happiness_data.pkl')"
   ]
  },
  {
   "cell_type": "code",
   "execution_count": 3,
   "metadata": {},
   "outputs": [],
   "source": [
    "years_train = [2015, 2016]\n",
    "years_test = [2017]\n",
    "train_features = df.loc[df['Year'].isin(years_train)]\n",
    "test_features = df.loc[df['Year'].isin(years_test)]\n",
    "train_features.reset_index(inplace=True, drop=True)\n",
    "test_features.reset_index(inplace=True, drop=True)\n",
    "df_train = train_features.drop(columns=['Country','Year','Score','Low','High','Economy','Family','Health','Freedom','Trust','Generosity','Dystopia'],axis=1)\n",
    "df_test = test_features.drop(columns=['Country','Year','Score','Low','High','Economy','Family','Health','Freedom','Trust','Generosity','Dystopia'],axis=1)"
   ]
  },
  {
   "cell_type": "code",
   "execution_count": 4,
   "metadata": {},
   "outputs": [],
   "source": [
    "#Fetching training and test data set\n",
    "score_train = pd.DataFrame(train_features['Score'])\n",
    "economy_train = pd.DataFrame(train_features['Economy'])\n",
    "family_train = pd.DataFrame(train_features['Family'])\n",
    "health_train = pd.DataFrame(train_features['Health'])\n",
    "freedom_train = pd.DataFrame(train_features['Freedom'])\n",
    "trust_train = pd.DataFrame(train_features['Trust'])\n",
    "generosity_train = pd.DataFrame(train_features['Generosity'])\n",
    "dystopia_train = pd.DataFrame(train_features['Dystopia'])\n",
    "\n",
    "score_test = pd.DataFrame(test_features['Score'])\n",
    "economy_test = pd.DataFrame(test_features['Economy'])\n",
    "family_test = pd.DataFrame(test_features['Family'])\n",
    "health_test = pd.DataFrame(test_features['Health'])\n",
    "freedom_test = pd.DataFrame(test_features['Freedom'])\n",
    "trust_test = pd.DataFrame(test_features['Trust'])\n",
    "generosity_test = pd.DataFrame(test_features['Generosity'])\n",
    "dystopia_test = pd.DataFrame(test_features['Dystopia'])"
   ]
  },
  {
   "cell_type": "code",
   "execution_count": 5,
   "metadata": {},
   "outputs": [],
   "source": [
    "from sklearn.preprocessing import MinMaxScaler\n",
    "scaler = MinMaxScaler(feature_range=(0, 1))\n",
    "\n",
    "rescaled_df = scaler.fit_transform(df_train)\n",
    "df_train = pd.DataFrame(rescaled_df, columns=df_train.columns)\n",
    "\n",
    "rescaled_df = scaler.fit_transform(df_test)\n",
    "df_test = pd.DataFrame(rescaled_df, columns=df_test.columns)"
   ]
  },
  {
   "cell_type": "code",
   "execution_count": 6,
   "metadata": {},
   "outputs": [],
   "source": [
    "from sklearn.feature_selection import RFE\n",
    "from sklearn import linear_model"
   ]
  },
  {
   "cell_type": "code",
   "execution_count": 51,
   "metadata": {},
   "outputs": [
    {
     "name": "stdout",
     "output_type": "stream",
     "text": [
      "Num Features:  1\n",
      "Selected Features:  [False False  True False False False False False False False False False\n",
      " False False False False False False False False False False False False\n",
      " False False False False False False False False False]\n",
      "Feature Ranking:  [ 7 18  1  2 33 19  6  3 11 10  9  8 16 23 28 17 20 13  5  4 27 25 14 15\n",
      " 12 29 26 21 24 22 30 32 31]\n",
      "R2 score:  0.7767328766818882\n"
     ]
    }
   ],
   "source": [
    "model = linear_model.LinearRegression()\n",
    "rfe = RFE(model, 1)\n",
    "fit = rfe.fit(df_train, economy_train.values.ravel())\n",
    "print(\"Num Features: \", fit.n_features_) \n",
    "print(\"Selected Features: \", fit.support_)\n",
    "print(\"Feature Ranking: \", fit.ranking_)\n",
    "\n",
    "#col = ['Ind 4','Ind 24','Ind 9','Ind 10','Ind 11','Ind 12','Ind 33', 'Ind 15','Ind 18','Ind 22','Ind 25','Ind 29','Ind 31','Ind 32']\n",
    "#df_economy_train=df_train.drop(columns=col, axis=1)\n",
    "#df_economy_test=df_test.drop(columns=col, axis=1)\n",
    "col=['Ind 8','Ind 20','Ind 19','Ind 25','Ind 23','Ind 18','Ind 16','Ind 6','Ind 30','Ind 14','Ind 29','Ind 27','Ind 21','Ind 31']\n",
    "df_economy_train= df_train[col]\n",
    "df_economy_test= df_test[col]\n",
    "lr = linear_model.LinearRegression()\n",
    "lr.fit(df_economy_train, economy_train.values.ravel())\n",
    "economy_predictions = lr.predict(df_economy_test)\n",
    "errors = abs(economy_predictions - economy_test.values.ravel())\n",
    "accuracy = r2_score(economy_test.values.ravel(), economy_predictions)\n",
    "print('R2 score: ', accuracy)\n",
    "df_economy_train.to_pickle('data/economy_train.pkl')\n",
    "df_economy_test.to_pickle('data/economy_test.pkl')\n",
    "#pd.DataFrame(fit.ranking_, index =range(1,34)).sort_values(by=[0])"
   ]
  },
  {
   "cell_type": "code",
   "execution_count": 102,
   "metadata": {},
   "outputs": [
    {
     "name": "stdout",
     "output_type": "stream",
     "text": [
      "Num Features:  1\n",
      "Selected Features:  [False False False False False False False False False False False  True\n",
      " False False False False False False False False False False False False\n",
      " False False False False False False False False False]\n",
      "Feature Ranking:  [30  8 10 11 15 18 13 12 14  3  2  1 32 22 23 31 16 26  9  5 24 17  4 25\n",
      "  6 20 28 27  7 29 19 21 33]\n",
      "R2 score:  -0.10085857449564428\n"
     ]
    },
    {
     "data": {
      "text/html": [
       "<div>\n",
       "<style scoped>\n",
       "    .dataframe tbody tr th:only-of-type {\n",
       "        vertical-align: middle;\n",
       "    }\n",
       "\n",
       "    .dataframe tbody tr th {\n",
       "        vertical-align: top;\n",
       "    }\n",
       "\n",
       "    .dataframe thead th {\n",
       "        text-align: right;\n",
       "    }\n",
       "</style>\n",
       "<table border=\"1\" class=\"dataframe\">\n",
       "  <thead>\n",
       "    <tr style=\"text-align: right;\">\n",
       "      <th></th>\n",
       "      <th>0</th>\n",
       "    </tr>\n",
       "  </thead>\n",
       "  <tbody>\n",
       "    <tr>\n",
       "      <th>12</th>\n",
       "      <td>1</td>\n",
       "    </tr>\n",
       "    <tr>\n",
       "      <th>11</th>\n",
       "      <td>2</td>\n",
       "    </tr>\n",
       "    <tr>\n",
       "      <th>10</th>\n",
       "      <td>3</td>\n",
       "    </tr>\n",
       "    <tr>\n",
       "      <th>23</th>\n",
       "      <td>4</td>\n",
       "    </tr>\n",
       "    <tr>\n",
       "      <th>20</th>\n",
       "      <td>5</td>\n",
       "    </tr>\n",
       "    <tr>\n",
       "      <th>25</th>\n",
       "      <td>6</td>\n",
       "    </tr>\n",
       "    <tr>\n",
       "      <th>29</th>\n",
       "      <td>7</td>\n",
       "    </tr>\n",
       "    <tr>\n",
       "      <th>2</th>\n",
       "      <td>8</td>\n",
       "    </tr>\n",
       "    <tr>\n",
       "      <th>19</th>\n",
       "      <td>9</td>\n",
       "    </tr>\n",
       "    <tr>\n",
       "      <th>3</th>\n",
       "      <td>10</td>\n",
       "    </tr>\n",
       "    <tr>\n",
       "      <th>4</th>\n",
       "      <td>11</td>\n",
       "    </tr>\n",
       "    <tr>\n",
       "      <th>8</th>\n",
       "      <td>12</td>\n",
       "    </tr>\n",
       "    <tr>\n",
       "      <th>7</th>\n",
       "      <td>13</td>\n",
       "    </tr>\n",
       "    <tr>\n",
       "      <th>9</th>\n",
       "      <td>14</td>\n",
       "    </tr>\n",
       "    <tr>\n",
       "      <th>5</th>\n",
       "      <td>15</td>\n",
       "    </tr>\n",
       "    <tr>\n",
       "      <th>17</th>\n",
       "      <td>16</td>\n",
       "    </tr>\n",
       "    <tr>\n",
       "      <th>22</th>\n",
       "      <td>17</td>\n",
       "    </tr>\n",
       "    <tr>\n",
       "      <th>6</th>\n",
       "      <td>18</td>\n",
       "    </tr>\n",
       "    <tr>\n",
       "      <th>31</th>\n",
       "      <td>19</td>\n",
       "    </tr>\n",
       "    <tr>\n",
       "      <th>26</th>\n",
       "      <td>20</td>\n",
       "    </tr>\n",
       "    <tr>\n",
       "      <th>32</th>\n",
       "      <td>21</td>\n",
       "    </tr>\n",
       "    <tr>\n",
       "      <th>14</th>\n",
       "      <td>22</td>\n",
       "    </tr>\n",
       "    <tr>\n",
       "      <th>15</th>\n",
       "      <td>23</td>\n",
       "    </tr>\n",
       "    <tr>\n",
       "      <th>21</th>\n",
       "      <td>24</td>\n",
       "    </tr>\n",
       "    <tr>\n",
       "      <th>24</th>\n",
       "      <td>25</td>\n",
       "    </tr>\n",
       "    <tr>\n",
       "      <th>18</th>\n",
       "      <td>26</td>\n",
       "    </tr>\n",
       "    <tr>\n",
       "      <th>28</th>\n",
       "      <td>27</td>\n",
       "    </tr>\n",
       "    <tr>\n",
       "      <th>27</th>\n",
       "      <td>28</td>\n",
       "    </tr>\n",
       "    <tr>\n",
       "      <th>30</th>\n",
       "      <td>29</td>\n",
       "    </tr>\n",
       "    <tr>\n",
       "      <th>1</th>\n",
       "      <td>30</td>\n",
       "    </tr>\n",
       "    <tr>\n",
       "      <th>16</th>\n",
       "      <td>31</td>\n",
       "    </tr>\n",
       "    <tr>\n",
       "      <th>13</th>\n",
       "      <td>32</td>\n",
       "    </tr>\n",
       "    <tr>\n",
       "      <th>33</th>\n",
       "      <td>33</td>\n",
       "    </tr>\n",
       "  </tbody>\n",
       "</table>\n",
       "</div>"
      ],
      "text/plain": [
       "     0\n",
       "12   1\n",
       "11   2\n",
       "10   3\n",
       "23   4\n",
       "20   5\n",
       "25   6\n",
       "29   7\n",
       "2    8\n",
       "19   9\n",
       "3   10\n",
       "4   11\n",
       "8   12\n",
       "7   13\n",
       "9   14\n",
       "5   15\n",
       "17  16\n",
       "22  17\n",
       "6   18\n",
       "31  19\n",
       "26  20\n",
       "32  21\n",
       "14  22\n",
       "15  23\n",
       "21  24\n",
       "24  25\n",
       "18  26\n",
       "28  27\n",
       "27  28\n",
       "30  29\n",
       "1   30\n",
       "16  31\n",
       "13  32\n",
       "33  33"
      ]
     },
     "execution_count": 102,
     "metadata": {},
     "output_type": "execute_result"
    }
   ],
   "source": [
    "model = linear_model.LinearRegression()\n",
    "rfe = RFE(model, 1)\n",
    "fit = rfe.fit(df_train, family_train.values.ravel())\n",
    "print(\"Num Features: \", fit.n_features_) \n",
    "print(\"Selected Features: \", fit.support_)\n",
    "print(\"Feature Ranking: \", fit.ranking_)\n",
    "\n",
    "col=['Ind 8','Ind 20','Ind 19','Ind 23','Ind 6','Ind 16','Ind 30','Ind 21','Ind 31']\n",
    "df_family_train= df_train[col]\n",
    "df_family_test= df_test[col]\n",
    "#col = ['Ind 5','Ind 8','Ind 19','Ind 6']\n",
    "#df_family_train = df_train.drop(columns=col,axis=1)\n",
    "#df_family_test = df_test.drop(columns=col,axis=1)\n",
    "lr = linear_model.LinearRegression()\n",
    "lr.fit(df_family_train, family_train.values.ravel())\n",
    "family_predictions = lr.predict(df_family_test)\n",
    "errors = abs(family_predictions - family_test.values.ravel())\n",
    "accuracy = r2_score(family_test.values.ravel(), family_predictions)\n",
    "print('R2 score: ', accuracy)\n",
    "df_family_train.to_pickle('data/family_train.pkl')\n",
    "df_family_test.to_pickle('data/family_test.pkl')\n",
    "pd.DataFrame(fit.ranking_, index =range(1,34)).sort_values(by=[0])"
   ]
  },
  {
   "cell_type": "code",
   "execution_count": 85,
   "metadata": {},
   "outputs": [
    {
     "name": "stdout",
     "output_type": "stream",
     "text": [
      "Num Features:  1\n",
      "Selected Features:  [False False False False False False False False False False False False\n",
      " False False False False False False False False False False  True False\n",
      " False False False False False False False False False]\n",
      "Feature Ranking:  [ 5 16 14 15 20 33  3  2 10  9  8  7  4 32 24 26 21 18 11 28 27 31  1 17\n",
      " 29 12 22 13 25 23 19  6 30]\n"
     ]
    }
   ],
   "source": [
    "model = linear_model.LinearRegression()\n",
    "rfe = RFE(model, 1)\n",
    "fit = rfe.fit(df_train, health_train.values.ravel())\n",
    "print(\"Num Features: \", fit.n_features_) \n",
    "print(\"Selected Features: \", fit.support_)\n",
    "print(\"Feature Ranking: \", fit.ranking_)\n",
    "\n",
    "col = ['Ind 8','Ind 13','Ind 23','Ind 7','Ind 19','Ind 1']\n",
    "df_health_train = df_train.drop(columns=col,axis=1)\n",
    "df_health_test = df_test.drop(columns=col,axis=1)\n",
    "\n",
    "df_health_train.to_pickle('data/health_train.pkl')\n",
    "df_health_test.to_pickle('data/health_test.pkl')\n",
    "#pd.DataFrame(fit.ranking_, index =range(1,34))"
   ]
  },
  {
   "cell_type": "code",
   "execution_count": 10,
   "metadata": {},
   "outputs": [
    {
     "name": "stdout",
     "output_type": "stream",
     "text": [
      "Num Features:  1\n",
      "Selected Features:  [False False False False False False False False False False False  True\n",
      " False False False False False False False False False False False False\n",
      " False False False False False False False False False]\n",
      "Feature Ranking:  [24 15  4  5 14 16  8  6 12  3  2  1  9 33 23 32 17 19 22 21 20 13 11 10\n",
      " 28 30 27 29 18 25 26  7 31]\n"
     ]
    }
   ],
   "source": [
    "model = linear_model.LinearRegression()\n",
    "rfe = RFE(model, 1)\n",
    "fit = rfe.fit(df_train, freedom_train.values.ravel())\n",
    "print(\"Num Features: \", fit.n_features_) \n",
    "print(\"Selected Features: \", fit.support_)\n",
    "print(\"Feature Ranking: \", fit.ranking_)\n",
    "\n",
    "col = ['Ind 13','Ind 5','Ind 10','Ind 4','Ind 24','Ind 2']\n",
    "df_freedom_train = df_train.drop(columns=col,axis=1)\n",
    "df_freedom_test = df_test.drop(columns=col,axis=1)\n",
    "\n",
    "df_freedom_train.to_pickle('data/freedom_train.pkl')\n",
    "df_freedom_test.to_pickle('data/freedom_test.pkl')\n",
    "#pd.DataFrame(fit.ranking_, index =range(1,34))"
   ]
  },
  {
   "cell_type": "code",
   "execution_count": 11,
   "metadata": {},
   "outputs": [
    {
     "name": "stdout",
     "output_type": "stream",
     "text": [
      "Num Features:  1\n",
      "Selected Features:  [False False False  True False False False False False False False False\n",
      " False False False False False False False False False False False False\n",
      " False False False False False False False False False]\n",
      "Feature Ranking:  [23 28  2  1 19 33  8  7  6 11  4  5  9 13 27 15 10 30 16  3 25 17 29 18\n",
      " 14 32 24 31 20 12 21 26 22]\n"
     ]
    }
   ],
   "source": [
    "model = linear_model.LinearRegression()\n",
    "rfe = RFE(model, 1)\n",
    "fit = rfe.fit(df_train, trust_train.values.ravel())\n",
    "print(\"Num Features: \", fit.n_features_) \n",
    "print(\"Selected Features: \", fit.support_)\n",
    "print(\"Feature Ranking: \", fit.ranking_)\n",
    "\n",
    "col=['Ind 13','Ind 11','Ind 12','Ind 5','Ind 8','Ind 17','Ind 30']\n",
    "df_trust_train = df_train.drop(columns=col, axis=1)\n",
    "df_trust_test = df_test.drop(columns=col, axis=1)\n",
    "\n",
    "df_trust_train.to_pickle('data/trust_train.pkl')\n",
    "df_trust_test.to_pickle('data/trust_test.pkl')\n",
    "#pd.DataFrame(fit.ranking_, index =range(1,34))"
   ]
  },
  {
   "cell_type": "code",
   "execution_count": 12,
   "metadata": {},
   "outputs": [
    {
     "name": "stdout",
     "output_type": "stream",
     "text": [
      "Num Features:  1\n",
      "Selected Features:  [False False  True False False False False False False False False False\n",
      " False False False False False False False False False False False False\n",
      " False False False False False False False False False]\n",
      "Feature Ranking:  [17 27  1  2 30 33 15  4 11 12 13 14 16 32 18 21 28 23  3 22 25 26  5 24\n",
      "  8 10 31  7  9 20 29  6 19]\n"
     ]
    }
   ],
   "source": [
    "model = linear_model.LinearRegression()\n",
    "rfe = RFE(model, 1)\n",
    "fit = rfe.fit(df_train, generosity_train.values.ravel())\n",
    "print(\"Num Features: \", fit.n_features_) \n",
    "print(\"Selected Features: \", fit.support_)\n",
    "print(\"Feature Ranking: \", fit.ranking_)\n",
    "\n",
    "col = ['Ind 19','Ind 4','Ind 8','Ind 23','Ind 7','Ind 11','Ind 5','Ind 28']\n",
    "df_generosity_train = df_train.drop(columns=col, axis=1)\n",
    "df_generosity_test = df_test.drop(columns=col, axis=1)\n",
    "\n",
    "df_generosity_train.to_pickle('data/generosity_train.pkl')\n",
    "df_generosity_test.to_pickle('data/generosity_test.pkl')\n",
    "#pd.DataFrame(fit.ranking_, index =range(1,34))"
   ]
  },
  {
   "cell_type": "code",
   "execution_count": 13,
   "metadata": {},
   "outputs": [
    {
     "name": "stdout",
     "output_type": "stream",
     "text": [
      "Num Features:  1\n",
      "Selected Features:  [False False False False False False False False False False  True False\n",
      " False False False False False False False False False False False False\n",
      " False False False False False False False False False]\n",
      "Feature Ranking:  [ 7 21  9  5 14 31  8 11  4  3  1  2 10 26 27 30 33 18 13  6 19 15 20 12\n",
      " 24 22 23 32 17 29 28 16 25]\n"
     ]
    }
   ],
   "source": [
    "model = linear_model.LinearRegression()\n",
    "rfe = RFE(model, 1)\n",
    "fit = rfe.fit(df_train, dystopia_train.values.ravel())\n",
    "print(\"Num Features: \", fit.n_features_) \n",
    "print(\"Selected Features: \", fit.support_)\n",
    "print(\"Feature Ranking: \", fit.ranking_)\n",
    "\n",
    "col = ['Ind 4','Ind 24','Ind 9','Ind 10','Ind 11','Ind 12','Ind 33', 'Ind 15','Ind 17','Ind 18','Ind 25','Ind 29','Ind 31','Ind 13','Ind 3','Ind 5']\n",
    "df_dystopia_train = df_train.drop(columns=col, axis=1)\n",
    "df_dystopia_test = df_test.drop(columns=col, axis=1)\n",
    "\n",
    "df_dystopia_train.to_pickle('data/dystopia_train.pkl')\n",
    "df_dystopia_test.to_pickle('data/dystopia_test.pkl')\n",
    "#pd.DataFrame(fit.ranking_, index =range(33))"
   ]
  },
  {
   "cell_type": "code",
   "execution_count": 14,
   "metadata": {},
   "outputs": [
    {
     "name": "stdout",
     "output_type": "stream",
     "text": [
      "Explained Variance:  [0.23465868 0.1913472  0.08820399]\n",
      "Fit Components:  [[-3.85829613e-01 -1.28936544e-01  4.74083100e-03 -2.45124851e-02\n",
      "  -9.97186595e-02 -1.13495466e-01  2.39352448e-01  3.39015306e-01\n",
      "   2.08200754e-02 -4.00808505e-03 -9.41743146e-02 -1.12615196e-01\n",
      "   2.05267129e-02  1.61084587e-01 -1.04065220e-01 -1.73000148e-01\n",
      "   2.87735015e-01 -3.15181836e-02  2.74709274e-02 -8.63047894e-02\n",
      "  -1.26235529e-01 -2.27997402e-03  3.24316618e-01  3.38676906e-01\n",
      "  -9.23596201e-03  9.37811882e-02  3.01039340e-01  3.21061560e-01\n",
      "  -4.67560476e-03 -7.15351491e-02 -5.22170234e-02 -5.63697036e-02\n",
      "   9.09513665e-02]\n",
      " [ 7.49027072e-03  5.37070395e-02 -2.83348299e-02 -2.09588146e-02\n",
      "   7.14216146e-03 -3.66236549e-02 -1.97435571e-04 -1.36403493e-02\n",
      "   6.82763754e-01  5.91211533e-01  3.37189007e-01  7.78924680e-02\n",
      "   3.67548299e-02  7.92529903e-02  1.23306000e-02 -2.03089799e-02\n",
      "  -3.34636880e-02  1.18085874e-02 -3.15159992e-02  1.20584093e-02\n",
      "   6.95003187e-02 -1.24989576e-02  2.95023151e-02  2.38556818e-02\n",
      "   1.62058228e-02  1.46661380e-02  6.02117491e-02 -1.65929905e-02\n",
      "   8.68767696e-02 -1.60946355e-02 -5.05802159e-02  7.39050261e-02\n",
      "   1.46806090e-01]\n",
      " [-1.04668309e-01 -1.01595189e-02  1.90178925e-02  2.81313961e-02\n",
      "  -5.17473322e-02 -1.02521044e-01  1.15953298e-01  4.08072868e-02\n",
      "  -1.71843237e-01 -4.93713255e-02  4.78439703e-01  6.11470256e-01\n",
      "   1.64774731e-01 -1.19633836e-01 -2.30760101e-01  1.68139530e-01\n",
      "   1.67032295e-01 -2.06487256e-02  5.49620555e-03 -5.44780726e-02\n",
      "   9.68164823e-02 -2.10578207e-02 -1.37064868e-02  2.55150174e-02\n",
      "  -1.85388855e-02 -5.51539273e-02 -6.02602323e-02  1.80172860e-01\n",
      "  -9.33728221e-02  1.37681197e-01  7.84715738e-03  9.68396450e-02\n",
      "  -2.88381890e-01]]\n"
     ]
    }
   ],
   "source": [
    "from sklearn.decomposition import PCA\n",
    "pca = PCA(n_components=3)\n",
    "fit = pca.fit(df_test)\n",
    "print(\"Explained Variance: \", fit.explained_variance_ratio_)\n",
    "print(\"Fit Components: \", fit.components_)"
   ]
  },
  {
   "cell_type": "code",
   "execution_count": null,
   "metadata": {},
   "outputs": [],
   "source": []
  }
 ],
 "metadata": {
  "kernelspec": {
   "display_name": "Python 3",
   "language": "python",
   "name": "python3"
  },
  "language_info": {
   "codemirror_mode": {
    "name": "ipython",
    "version": 3
   },
   "file_extension": ".py",
   "mimetype": "text/x-python",
   "name": "python",
   "nbconvert_exporter": "python",
   "pygments_lexer": "ipython3",
   "version": "3.7.1"
  }
 },
 "nbformat": 4,
 "nbformat_minor": 2
}
