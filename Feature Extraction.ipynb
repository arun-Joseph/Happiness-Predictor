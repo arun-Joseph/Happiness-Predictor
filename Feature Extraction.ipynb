{
 "cells": [
  {
   "cell_type": "markdown",
   "metadata": {},
   "source": [
    "# Feature Extraction"
   ]
  },
  {
   "cell_type": "code",
   "execution_count": null,
   "metadata": {},
   "outputs": [],
   "source": [
    "import numpy as np\n",
    "import pandas as pd\n",
    "import matplotlib.pyplot as plt\n",
    "from sklearn.ensemble import ExtraTreesClassifier\n",
    "from sklearn.metrics import r2_score"
   ]
  },
  {
   "cell_type": "code",
   "execution_count": null,
   "metadata": {},
   "outputs": [],
   "source": [
    "df = pd.read_pickle('data/happiness_data.pkl')"
   ]
  },
  {
   "cell_type": "code",
   "execution_count": null,
   "metadata": {},
   "outputs": [],
   "source": [
    "years_train = [2015, 2016]\n",
    "years_test = [2017]\n",
    "train_features = df.loc[df['Year'].isin(years_train)]\n",
    "test_features = df.loc[df['Year'].isin(years_test)]\n",
    "train_features.reset_index(inplace=True, drop=True)\n",
    "test_features.reset_index(inplace=True, drop=True)\n",
    "df_train = train_features.drop(columns=['Country','Year','Score','Low','High','Economy','Family','Health','Freedom','Trust','Generosity','Dystopia'],axis=1)\n",
    "df_test = test_features.drop(columns=['Country','Year','Score','Low','High','Economy','Family','Health','Freedom','Trust','Generosity','Dystopia'],axis=1)"
   ]
  },
  {
   "cell_type": "code",
   "execution_count": null,
   "metadata": {},
   "outputs": [],
   "source": [
    "#Fetching training and test data set\n",
    "score_train = pd.DataFrame(train_features['Score'])\n",
    "economy_train = pd.DataFrame(train_features['Economy'])\n",
    "family_train = pd.DataFrame(train_features['Family'])\n",
    "health_train = pd.DataFrame(train_features['Health'])\n",
    "freedom_train = pd.DataFrame(train_features['Freedom'])\n",
    "trust_train = pd.DataFrame(train_features['Trust'])\n",
    "generosity_train = pd.DataFrame(train_features['Generosity'])\n",
    "dystopia_train = pd.DataFrame(train_features['Dystopia'])\n",
    "\n",
    "score_test = pd.DataFrame(test_features['Score'])\n",
    "economy_test = pd.DataFrame(test_features['Economy'])\n",
    "family_test = pd.DataFrame(test_features['Family'])\n",
    "health_test = pd.DataFrame(test_features['Health'])\n",
    "freedom_test = pd.DataFrame(test_features['Freedom'])\n",
    "trust_test = pd.DataFrame(test_features['Trust'])\n",
    "generosity_test = pd.DataFrame(test_features['Generosity'])\n",
    "dystopia_test = pd.DataFrame(test_features['Dystopia'])"
   ]
  },
  {
   "cell_type": "code",
   "execution_count": null,
   "metadata": {},
   "outputs": [],
   "source": [
    "from sklearn.preprocessing import MinMaxScaler\n",
    "scaler = MinMaxScaler(feature_range=(0, 1))\n",
    "\n",
    "rescaled_df = scaler.fit_transform(df_train)\n",
    "df_train = pd.DataFrame(rescaled_df, columns=df_train.columns)\n",
    "\n",
    "rescaled_df = scaler.fit_transform(df_test)\n",
    "df_test = pd.DataFrame(rescaled_df, columns=df_test.columns)"
   ]
  },
  {
   "cell_type": "code",
   "execution_count": null,
   "metadata": {},
   "outputs": [],
   "source": [
    "from sklearn.feature_selection import RFE\n",
    "from sklearn import linear_model"
   ]
  },
  {
   "cell_type": "code",
   "execution_count": null,
   "metadata": {},
   "outputs": [],
   "source": [
    "model = linear_model.LinearRegression()\n",
    "rfe = RFE(model, 1)\n",
    "fit = rfe.fit(df_train, economy_train.values.ravel())\n",
    "print(\"Num Features: \", fit.n_features_) \n",
    "print(\"Selected Features: \", fit.support_)\n",
    "print(\"Feature Ranking: \", fit.ranking_)\n",
    "\n",
    "col = ['Ind 8','Ind 20','Ind 19','Ind 23','Ind 16','Ind 6','Ind 30','Ind 14','Ind 29','Ind 27','Ind 21','Ind 31']\n",
    "df_economy_train = df_train[col]\n",
    "df_economy_test = df_test[col]\n",
    "\n",
    "df_economy_train.to_pickle('data/economy_train.pkl')\n",
    "df_economy_test.to_pickle('data/economy_test.pkl')\n",
    "#pd.DataFrame(fit.ranking_, index = range(1,34)).sort_values(by=[0])"
   ]
  },
  {
   "cell_type": "code",
   "execution_count": null,
   "metadata": {},
   "outputs": [],
   "source": [
    "model = linear_model.LinearRegression()\n",
    "rfe = RFE(model, 1)\n",
    "fit = rfe.fit(df_train, family_train.values.ravel())\n",
    "print(\"Num Features: \", fit.n_features_) \n",
    "print(\"Selected Features: \", fit.support_)\n",
    "print(\"Feature Ranking: \", fit.ranking_)\n",
    "\n",
    "col = ['Ind 8','Ind 20','Ind 19','Ind 23','Ind 6','Ind 16','Ind 30']\n",
    "df_family_train = df_train[col]\n",
    "df_family_test = df_test[col]\n",
    "\n",
    "df_family_train.to_pickle('data/family_train.pkl')\n",
    "df_family_test.to_pickle('data/family_test.pkl')\n",
    "#pd.DataFrame(fit.ranking_, index = range(1,34)).sort_values(by=[0])"
   ]
  },
  {
   "cell_type": "code",
   "execution_count": null,
   "metadata": {},
   "outputs": [],
   "source": [
    "model = linear_model.LinearRegression()\n",
    "rfe = RFE(model, 1)\n",
    "fit = rfe.fit(df_train, health_train.values.ravel())\n",
    "print(\"Num Features: \", fit.n_features_) \n",
    "print(\"Selected Features: \", fit.support_)\n",
    "print(\"Feature Ranking: \", fit.ranking_)\n",
    "\n",
    "col = ['Ind 23', 'Ind 7', 'Ind 24', 'Ind 18', 'Ind 5', 'Ind 15', 'Ind 20', 'Ind 25', 'Ind 33', 'Ind 6']\n",
    "df_health_train = df_train[col]\n",
    "df_health_test = df_test[col]\n",
    "\n",
    "df_health_train.to_pickle('data/health_train.pkl')\n",
    "df_health_test.to_pickle('data/health_test.pkl')\n",
    "#pd.DataFrame(fit.ranking_, index = range(1,34)).sort_values(by=[0])"
   ]
  },
  {
   "cell_type": "code",
   "execution_count": null,
   "metadata": {},
   "outputs": [],
   "source": [
    "model = linear_model.LinearRegression()\n",
    "rfe = RFE(model, 1)\n",
    "fit = rfe.fit(df_train, freedom_train.values.ravel())\n",
    "print(\"Num Features: \", fit.n_features_) \n",
    "print(\"Selected Features: \", fit.support_)\n",
    "print(\"Feature Ranking: \", fit.ranking_)\n",
    "\n",
    "col = ['Ind 3', 'Ind 8', 'Ind 32', 'Ind 7', 'Ind 32', 'Ind 24', 'Ind 6']\n",
    "df_freedom_train = df_train[col]\n",
    "df_freedom_test = df_test[col]\n",
    "\n",
    "df_freedom_train.to_pickle('data/freedom_train.pkl')\n",
    "df_freedom_test.to_pickle('data/freedom_test.pkl')\n",
    "#pd.DataFrame(fit.ranking_, index = range(1,34)).sort_values(by=[0])"
   ]
  },
  {
   "cell_type": "code",
   "execution_count": null,
   "metadata": {},
   "outputs": [],
   "source": [
    "model = linear_model.LinearRegression()\n",
    "rfe = RFE(model, 1)\n",
    "fit = rfe.fit(df_train, trust_train.values.ravel())\n",
    "print(\"Num Features: \", fit.n_features_) \n",
    "print(\"Selected Features: \", fit.support_)\n",
    "print(\"Feature Ranking: \", fit.ranking_)\n",
    "\n",
    "col = ['Ind 20', 'Ind 13', 'Ind 17', 'Ind 14', 'Ind 25', 'Ind 22']\n",
    "df_trust_train = df_train[col]\n",
    "df_trust_test = df_test[col]\n",
    "\n",
    "df_trust_train.to_pickle('data/trust_train.pkl')\n",
    "df_trust_test.to_pickle('data/trust_test.pkl')\n",
    "#pd.DataFrame(fit.ranking_, index =  range(1,34)).sort_values(by=[0])"
   ]
  },
  {
   "cell_type": "code",
   "execution_count": null,
   "metadata": {},
   "outputs": [],
   "source": [
    "model = linear_model.LinearRegression()\n",
    "rfe = RFE(model, 1)\n",
    "fit = rfe.fit(df_train, generosity_train.values.ravel())\n",
    "print(\"Num Features: \", fit.n_features_) \n",
    "print(\"Selected Features: \", fit.support_)\n",
    "print(\"Feature Ranking: \", fit.ranking_)\n",
    "\n",
    "col = ['Ind 32', 'Ind 3', 'Ind 28', 'Ind 13', 'Ind 6', 'Ind 5', 'Ind 26', 'Ind 32']\n",
    "df_generosity_train = df_train[col]\n",
    "df_generosity_test = df_test[col]\n",
    "\n",
    "df_generosity_train.to_pickle('data/generosity_train.pkl')\n",
    "df_generosity_test.to_pickle('data/generosity_test.pkl')\n",
    "#pd.DataFrame(fit.ranking_, index = range(1,34)).sort_values(by=[0])"
   ]
  },
  {
   "cell_type": "code",
   "execution_count": null,
   "metadata": {},
   "outputs": [],
   "source": [
    "model = linear_model.LinearRegression()\n",
    "rfe = RFE(model, 1)\n",
    "fit = rfe.fit(df_train, dystopia_train.values.ravel())\n",
    "print(\"Num Features: \", fit.n_features_) \n",
    "print(\"Selected Features: \", fit.support_)\n",
    "print(\"Feature Ranking: \", fit.ranking_)\n",
    "\n",
    "col = ['Ind 8','Ind 23','Ind 6','Ind 29','Ind 27','Ind 31']\n",
    "df_dystopia_train = df_train[col]\n",
    "df_dystopia_test = df_test[col]\n",
    "\n",
    "df_dystopia_train.to_pickle('data/dystopia_train.pkl')\n",
    "df_dystopia_test.to_pickle('data/dystopia_test.pkl')\n",
    "#pd.DataFrame(fit.ranking_, index = range(33)).sort_values(by=[0])"
   ]
  },
  {
   "cell_type": "code",
   "execution_count": null,
   "metadata": {},
   "outputs": [],
   "source": [
    "from sklearn.decomposition import PCA\n",
    "pca = PCA(n_components=3)\n",
    "fit = pca.fit(df_test)\n",
    "print(\"Explained Variance: \", fit.explained_variance_ratio_)\n",
    "print(\"Fit Components: \", fit.components_)"
   ]
  },
  {
   "cell_type": "code",
   "execution_count": null,
   "metadata": {},
   "outputs": [],
   "source": []
  }
 ],
 "metadata": {
  "kernelspec": {
   "display_name": "Python 3",
   "language": "python",
   "name": "python3"
  },
  "language_info": {
   "codemirror_mode": {
    "name": "ipython",
    "version": 3
   },
   "file_extension": ".py",
   "mimetype": "text/x-python",
   "name": "python",
   "nbconvert_exporter": "python",
   "pygments_lexer": "ipython3",
   "version": "3.7.1"
  }
 },
 "nbformat": 4,
 "nbformat_minor": 2
}
