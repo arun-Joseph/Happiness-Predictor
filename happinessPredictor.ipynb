{
 "cells": [
  {
   "cell_type": "markdown",
   "metadata": {},
   "source": [
    "# Happiness Predictor"
   ]
  },
  {
   "cell_type": "code",
   "execution_count": 1,
   "metadata": {},
   "outputs": [],
   "source": [
    "import numpy as np\n",
    "import pandas as pd\n",
    "import matplotlib.pyplot as plt\n",
    "from sklearn.model_selection import train_test_split\n",
    "from sklearn.ensemble import RandomForestRegressor\n",
    "from sklearn import linear_model"
   ]
  },
  {
   "cell_type": "code",
   "execution_count": 2,
   "metadata": {
    "scrolled": true
   },
   "outputs": [],
   "source": [
    "df = pd.read_pickle('happiness_data.pkl')\n",
    "#df"
   ]
  },
  {
   "cell_type": "code",
   "execution_count": 3,
   "metadata": {},
   "outputs": [],
   "source": [
    "years_train = [2015,2016]\n",
    "years_test = [2017]\n",
    "train_features = df.loc[df['Year'].isin(years_train)]\n",
    "test_features = df.loc[df['Year'].isin(years_test)]\n",
    "train_features.reset_index(inplace=True,drop=True)\n",
    "test_features.reset_index(inplace=True,drop=True)\n",
    "#train_features"
   ]
  },
  {
   "cell_type": "code",
   "execution_count": 4,
   "metadata": {
    "scrolled": true
   },
   "outputs": [],
   "source": [
    "df_train = train_features.drop(columns=['Country','Year','Score','Economy','Family','Health','Freedom','Trust','Generosity','Dystopia'],axis=1)\n",
    "df_test = test_features.drop(columns=['Country','Year','Score','Economy','Family','Health','Freedom','Trust','Generosity','Dystopia'],axis=1)\n",
    "#df_train"
   ]
  },
  {
   "cell_type": "code",
   "execution_count": 5,
   "metadata": {},
   "outputs": [],
   "source": [
    "#fetching training and test data set\n",
    "\n",
    "economy_train = pd.DataFrame(train_features['Economy'])\n",
    "family_train = pd.DataFrame(train_features['Family'])\n",
    "health_train = pd.DataFrame(train_features['Health'])\n",
    "freedom_train = pd.DataFrame(train_features['Freedom'])\n",
    "trust_train = pd.DataFrame(train_features['Trust'])\n",
    "generosity_train = pd.DataFrame(train_features['Generosity'])\n",
    "dystopia_train = pd.DataFrame(train_features['Dystopia'])\n",
    "\n",
    "economy_test = pd.DataFrame(test_features['Economy'])\n",
    "family_test = pd.DataFrame(test_features['Family'])\n",
    "health_test = pd.DataFrame(test_features['Health'])\n",
    "freedom_test = pd.DataFrame(test_features['Freedom'])\n",
    "trust_test = pd.DataFrame(test_features['Trust'])\n",
    "generosity_test = pd.DataFrame(test_features['Generosity'])\n",
    "dystopia_test = pd.DataFrame(test_features['Dystopia'])"
   ]
  },
  {
   "cell_type": "code",
   "execution_count": 6,
   "metadata": {
    "scrolled": true
   },
   "outputs": [
    {
     "name": "stdout",
     "output_type": "stream",
     "text": [
      "Accuracy:  79.69626690016185\n",
      "Mean Absolute Error: 0.17 degrees\n"
     ]
    }
   ],
   "source": [
    "# training the model to predict economy\n",
    "\n",
    "rf = RandomForestRegressor(n_estimators=1000)\n",
    "rf.fit(df_train, economy_train.values.ravel())\n",
    "predictions = rf.predict(df_test)\n",
    "errors = abs(predictions - economy_test.values.ravel())\n",
    "mape = 100 * (errors / economy_test.values.ravel())\n",
    "accuracy = 100 - np.mean(mape)\n",
    "print('Accuracy: ',accuracy)\n",
    "print('Mean Absolute Error:',round(np.mean(errors),2),'degrees')\n",
    "#errors"
   ]
  },
  {
   "cell_type": "code",
   "execution_count": 7,
   "metadata": {},
   "outputs": [
    {
     "name": "stdout",
     "output_type": "stream",
     "text": [
      "Accuracy:  74.00930036138706\n",
      "Mean Absolute Error: 0.32 degrees\n"
     ]
    }
   ],
   "source": [
    "# training the model to predict family\n",
    "\n",
    "rf = RandomForestRegressor(n_estimators=1000)\n",
    "rf.fit(df_train, family_train.values.ravel())\n",
    "predictions = rf.predict(df_test)\n",
    "errors = abs(predictions - family_test.values.ravel())\n",
    "mape = 100 * (errors / family_test.values.ravel())\n",
    "accuracy = 100 - np.mean(mape)\n",
    "print('Accuracy: ',accuracy)\n",
    "print('Mean Absolute Error:',round(np.mean(errors),2),'degrees')\n",
    "#errors"
   ]
  },
  {
   "cell_type": "code",
   "execution_count": 8,
   "metadata": {},
   "outputs": [
    {
     "name": "stdout",
     "output_type": "stream",
     "text": [
      "Accuracy:  56.269053829942514\n",
      "Mean Absolute Error: 0.06 degrees\n"
     ]
    }
   ],
   "source": [
    "# training the model to predict health\n",
    "\n",
    "rf = RandomForestRegressor(n_estimators=1000)\n",
    "rf.fit(df_train, health_train.values.ravel())\n",
    "predictions = rf.predict(df_test)\n",
    "errors = abs(predictions - health_test.values.ravel())\n",
    "mape = 100 * (errors / health_test.values.ravel())\n",
    "accuracy = 100 - np.mean(mape)\n",
    "print('Accuracy: ',accuracy)\n",
    "print('Mean Absolute Error:',round(np.mean(errors),2),'degrees')\n",
    "#errors"
   ]
  },
  {
   "cell_type": "code",
   "execution_count": 9,
   "metadata": {},
   "outputs": [
    {
     "name": "stdout",
     "output_type": "stream",
     "text": [
      "Accuracy:  -80.52689490382838\n",
      "Mean Absolute Error: 0.08 degrees\n"
     ]
    }
   ],
   "source": [
    "# training the model to predict freedom\n",
    "\n",
    "rf = RandomForestRegressor(n_estimators=1000)\n",
    "rf.fit(df_train, freedom_train.values.ravel())\n",
    "predictions = rf.predict(df_test)\n",
    "errors = abs(predictions - freedom_test.values.ravel())\n",
    "mape = 100 * (errors / freedom_test.values.ravel())\n",
    "accuracy = 100 - np.mean(mape)\n",
    "print('Accuracy: ',accuracy)\n",
    "print('Mean Absolute Error:',round(np.mean(errors),2),'degrees')\n",
    "#errors"
   ]
  },
  {
   "cell_type": "code",
   "execution_count": 10,
   "metadata": {},
   "outputs": [
    {
     "name": "stdout",
     "output_type": "stream",
     "text": [
      "Accuracy:  -104.72450370307527\n",
      "Mean Absolute Error: 0.05 degrees\n"
     ]
    }
   ],
   "source": [
    "# training the model to predict trust\n",
    "\n",
    "rf = RandomForestRegressor(n_estimators=1000)\n",
    "rf.fit(df_train, trust_train.values.ravel())\n",
    "predictions = rf.predict(df_test)\n",
    "errors = abs(predictions - trust_test.values.ravel())\n",
    "#print('Ravel: ',trust_test.values.ravel())\n",
    "mape = 100 * (errors / trust_test.values.ravel())\n",
    "accuracy = 100 - np.mean(mape)\n",
    "print('Accuracy: ',accuracy)\n",
    "print('Mean Absolute Error:',round(np.mean(errors),2),'degrees')\n",
    "#errors"
   ]
  },
  {
   "cell_type": "code",
   "execution_count": 11,
   "metadata": {},
   "outputs": [
    {
     "name": "stdout",
     "output_type": "stream",
     "text": [
      "Accuracy:  -83.08666424424266\n",
      "Mean Absolute Error: 0.07 degrees\n"
     ]
    }
   ],
   "source": [
    "# training the model to predict generosity\n",
    "rf = RandomForestRegressor(n_estimators=1000)\n",
    "rf.fit(df_train, generosity_train.values.ravel())\n",
    "predictions = rf.predict(df_test)\n",
    "errors = abs(predictions - generosity_test.values.ravel())\n",
    "mape = 100 * (errors / generosity_test.values.ravel())\n",
    "accuracy = 100 - np.mean(mape)\n",
    "print('Accuracy: ',accuracy)\n",
    "print('Mean Absolute Error:',round(np.mean(errors),2),'degrees')\n",
    "#errors"
   ]
  },
  {
   "cell_type": "code",
   "execution_count": 12,
   "metadata": {},
   "outputs": [
    {
     "name": "stdout",
     "output_type": "stream",
     "text": [
      "Accuracy:  68.21814519664201\n",
      "Mean Absolute Error: 0.41 degrees\n"
     ]
    }
   ],
   "source": [
    "# training the model to predict dystopia\n",
    "\n",
    "rf = RandomForestRegressor(n_estimators=1000)\n",
    "rf.fit(df_train, dystopia_train.values.ravel())\n",
    "predictions = rf.predict(df_test)\n",
    "errors = abs(predictions - dystopia_test.values.ravel())\n",
    "mape = 100 * (errors / dystopia_test.values.ravel())\n",
    "accuracy = 100 - np.mean(mape)\n",
    "print('Accuracy: ',accuracy)\n",
    "print('Mean Absolute Error:',round(np.mean(errors),2),'degrees')\n",
    "#errors"
   ]
  },
  {
   "cell_type": "code",
   "execution_count": 13,
   "metadata": {},
   "outputs": [
    {
     "name": "stdout",
     "output_type": "stream",
     "text": [
      "Mean Absolute Error: 0.25 degrees\n",
      "64.26954941656591\n"
     ]
    }
   ],
   "source": [
    "# training the model to predict economy\n",
    "\n",
    "lr=linear_model.LinearRegression()\n",
    "lr.fit(df_train,economy_train.values.ravel())\n",
    "predictions = lr.predict(df_test)\n",
    "errors = abs(predictions - economy_test.values.ravel())\n",
    "\n",
    "print('Mean Absolute Error:',round(np.mean(errors),2),'degrees')\n",
    "mape = 100 * (errors / economy_test.values.ravel())\n",
    "accuracy = 100 - np.mean(mape)\n",
    "print(accuracy)\n",
    "#errors\n"
   ]
  },
  {
   "cell_type": "code",
   "execution_count": 14,
   "metadata": {},
   "outputs": [
    {
     "name": "stdout",
     "output_type": "stream",
     "text": [
      "Mean Absolute Error: 0.33 degrees\n",
      "73.07316635580536\n"
     ]
    }
   ],
   "source": [
    "# training the model to predict family\n",
    "\n",
    "lr=linear_model.LinearRegression()\n",
    "lr.fit(df_train,family_train.values.ravel())\n",
    "predictions = lr.predict(df_test)\n",
    "errors = abs(predictions - family_test.values.ravel())\n",
    "\n",
    "print('Mean Absolute Error:',round(np.mean(errors),2),'degrees')\n",
    "mape = 100 * (errors / family_test.values.ravel())\n",
    "accuracy = 100 - np.mean(mape)\n",
    "print(accuracy)\n",
    "#errors"
   ]
  },
  {
   "cell_type": "code",
   "execution_count": 15,
   "metadata": {},
   "outputs": [
    {
     "name": "stdout",
     "output_type": "stream",
     "text": [
      "Mean Absolute Error: 0.1 degrees\n",
      "-92.44020360887959\n"
     ]
    }
   ],
   "source": [
    "# training the model to predict trust\n",
    "\n",
    "lr=linear_model.LinearRegression()\n",
    "lr.fit(df_train,trust_train.values.ravel())\n",
    "predictions = lr.predict(df_test)\n",
    "errors = abs(predictions - trust_test.values.ravel())\n",
    "\n",
    "print('Mean Absolute Error:',round(np.mean(errors),2),'degrees')\n",
    "mape = 100 * (errors / trust_test.values.ravel())\n",
    "accuracy = 100 - np.mean(mape)\n",
    "print(accuracy)\n",
    "#errors"
   ]
  },
  {
   "cell_type": "code",
   "execution_count": 16,
   "metadata": {
    "scrolled": true
   },
   "outputs": [
    {
     "name": "stdout",
     "output_type": "stream",
     "text": [
      "Mean Absolute Error: 0.14 degrees\n",
      "-18.388136284714136\n"
     ]
    }
   ],
   "source": [
    "# training the model to predict health\n",
    "\n",
    "lr=linear_model.LinearRegression()\n",
    "lr.fit(df_train,health_train.values.ravel())\n",
    "predictions = lr.predict(df_test)\n",
    "errors = abs(predictions - health_test.values.ravel())\n",
    "\n",
    "print('Mean Absolute Error:',round(np.mean(errors),2),'degrees')\n",
    "mape = 100 * (errors / health_test.values.ravel())\n",
    "accuracy = 100 - np.mean(mape)\n",
    "print(accuracy)\n",
    "#errors"
   ]
  },
  {
   "cell_type": "code",
   "execution_count": 17,
   "metadata": {
    "scrolled": true
   },
   "outputs": [
    {
     "name": "stdout",
     "output_type": "stream",
     "text": [
      "Mean Absolute Error: 0.12 degrees\n",
      "-89.44523682347543\n"
     ]
    }
   ],
   "source": [
    "# training the model to predict generosity\n",
    "\n",
    "lr=linear_model.LinearRegression()\n",
    "lr.fit(df_train,generosity_train.values.ravel())\n",
    "predictions = lr.predict(df_test)\n",
    "errors = abs(predictions - generosity_test.values.ravel())\n",
    "\n",
    "print('Mean Absolute Error:',round(np.mean(errors),2),'degrees')\n",
    "mape = 100 * (errors / generosity_test.values.ravel())\n",
    "accuracy = 100 - np.mean(mape)\n",
    "print(accuracy)\n",
    "#errors"
   ]
  },
  {
   "cell_type": "code",
   "execution_count": 18,
   "metadata": {},
   "outputs": [
    {
     "name": "stdout",
     "output_type": "stream",
     "text": [
      "Mean Absolute Error: 0.13 degrees\n",
      "-320.3666018133382\n"
     ]
    }
   ],
   "source": [
    "# training the model to predict freedom\n",
    "\n",
    "lr=linear_model.LinearRegression()\n",
    "lr.fit(df_train,freedom_train.values.ravel())\n",
    "predictions = lr.predict(df_test)\n",
    "errors = abs(predictions - freedom_test.values.ravel())\n",
    "\n",
    "print('Mean Absolute Error:',round(np.mean(errors),2),'degrees')\n",
    "mape = 100 * (errors / freedom_test.values.ravel())\n",
    "accuracy = 100 - np.mean(mape)\n",
    "print(accuracy)\n",
    "#errors"
   ]
  },
  {
   "cell_type": "code",
   "execution_count": 19,
   "metadata": {},
   "outputs": [
    {
     "name": "stdout",
     "output_type": "stream",
     "text": [
      "Mean Absolute Error: 0.56 degrees\n",
      "60.00406731816595\n"
     ]
    }
   ],
   "source": [
    "# training the model to predict dystopia\n",
    "\n",
    "lr=linear_model.LinearRegression()\n",
    "lr.fit(df_train,dystopia_train.values.ravel())\n",
    "predictions = lr.predict(df_test)\n",
    "errors = abs(predictions - dystopia_test.values.ravel())\n",
    "\n",
    "print('Mean Absolute Error:',round(np.mean(errors),2),'degrees')\n",
    "mape = 100 * (errors / dystopia_test.values.ravel())\n",
    "accuracy = 100 - np.mean(mape)\n",
    "print(accuracy)\n",
    "#errors"
   ]
  },
  {
   "cell_type": "code",
   "execution_count": null,
   "metadata": {},
   "outputs": [],
   "source": []
  }
 ],
 "metadata": {
  "kernelspec": {
   "display_name": "Python 3",
   "language": "python",
   "name": "python3"
  },
  "language_info": {
   "codemirror_mode": {
    "name": "ipython",
    "version": 3
   },
   "file_extension": ".py",
   "mimetype": "text/x-python",
   "name": "python",
   "nbconvert_exporter": "python",
   "pygments_lexer": "ipython3",
   "version": "3.7.1"
  }
 },
 "nbformat": 4,
 "nbformat_minor": 2
}
