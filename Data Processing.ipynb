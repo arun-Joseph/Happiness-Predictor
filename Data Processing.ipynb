{
 "cells": [
  {
   "cell_type": "markdown",
   "metadata": {},
   "source": [
    "# Data Preprocessing"
   ]
  },
  {
   "cell_type": "code",
   "execution_count": 1,
   "metadata": {},
   "outputs": [],
   "source": [
    "import numpy as np\n",
    "import pandas as pd\n",
    "import csv"
   ]
  },
  {
   "cell_type": "code",
   "execution_count": null,
   "metadata": {},
   "outputs": [],
   "source": [
    "#Processing 2015 data\n",
    "with open('2015.csv', 'r') as csvfile:\n",
    "    spamreader = csv.reader(csvfile, delimiter=',')\n",
    "    data_2015 = list(spamreader)\n",
    "    data_2015 = np.asarray(data_2015)\n",
    "    df_2015 = pd.DataFrame(data=data_2015[1:], columns=data_2015[0])\n",
    "    df_2015.drop(columns=['Region', 'Happiness Rank'], axis=1, inplace=True)\n",
    "    df_2015['Year'] = 2015\n",
    "    df_2015 = df_2015[['Country', 'Year', 'Happiness Score', 'Standard Error', 'Economy (GDP per Capita)', 'Family', 'Health (Life Expectancy)', 'Freedom', 'Trust (Government Corruption)', 'Generosity', 'Dystopia Residual']]\n",
    "    df_2015.columns = ['Country', 'Year', 'Score', 'Standard Error', 'Economy', 'Family', 'Health', 'Freedom', 'Trust', 'Generosity', 'Dystopia']\n",
    "    df_2015[['Score', 'Standard Error', 'Economy', 'Family', 'Health', 'Freedom', 'Trust', 'Generosity', 'Dystopia']] = df_2015[['Score', 'Standard Error', 'Economy', 'Family', 'Health', 'Freedom', 'Trust', 'Generosity', 'Dystopia']].astype(float)\n",
    "    df_2015['Low'] = df_2015['Score'] - df_2015['Standard Error']\n",
    "    df_2015['High'] = df_2015['Score'] + df_2015['Standard Error']\n",
    "    df_2015.drop(columns=['Standard Error'], axis=1, inplace=True)\n",
    "    df_2015 = df_2015[['Country', 'Year', 'Score', 'Low', 'High', 'Economy', 'Family', 'Health', 'Freedom', 'Trust', 'Generosity', 'Dystopia']]"
   ]
  },
  {
   "cell_type": "code",
   "execution_count": null,
   "metadata": {},
   "outputs": [],
   "source": [
    "df_2015"
   ]
  },
  {
   "cell_type": "code",
   "execution_count": null,
   "metadata": {},
   "outputs": [],
   "source": [
    "#Processing 2016 data\n",
    "with open('2016.csv', 'r') as csvfile:\n",
    "    spamreader = csv.reader(csvfile, delimiter=',')\n",
    "    data_2016 = list(spamreader)\n",
    "    data_2016 = np.asarray(data_2016)\n",
    "    df_2016 = pd.DataFrame(data=data_2016[1:], columns=data_2016[0])\n",
    "    df_2016.drop(columns=['Region', 'Happiness Rank'], axis=1, inplace=True)\n",
    "    df_2016['Year'] = 2016\n",
    "    df_2016 = df_2016[['Country', 'Year', 'Happiness Score', 'Lower Confidence Interval', 'Upper Confidence Interval', 'Economy (GDP per Capita)', 'Family', 'Health (Life Expectancy)', 'Freedom', 'Trust (Government Corruption)', 'Generosity', 'Dystopia Residual']]\n",
    "    df_2016.columns = ['Country', 'Year', 'Score', 'Low', 'High', 'Economy', 'Family', 'Health', 'Freedom', 'Trust', 'Generosity', 'Dystopia']\n",
    "    df_2016[['Score', 'Low', 'High', 'Economy', 'Family', 'Health', 'Freedom', 'Trust', 'Generosity', 'Dystopia']] = df_2016[['Score', 'Low', 'High', 'Economy', 'Family', 'Health', 'Freedom', 'Trust', 'Generosity', 'Dystopia']].astype(float)"
   ]
  },
  {
   "cell_type": "code",
   "execution_count": null,
   "metadata": {},
   "outputs": [],
   "source": [
    "df_2016"
   ]
  },
  {
   "cell_type": "code",
   "execution_count": null,
   "metadata": {},
   "outputs": [],
   "source": [
    "#Processing 2017 data\n",
    "with open('2017.csv', 'r') as csvfile:\n",
    "    spamreader = csv.reader(csvfile, delimiter=',')\n",
    "    data_2017 = list(spamreader)\n",
    "    data_2017 = np.asarray(data_2017)\n",
    "    df_2017 = pd.DataFrame(data=data_2017[1:], columns=data_2017[0])\n",
    "    df_2017.drop(columns=['Happiness.Rank'], axis=1, inplace=True)\n",
    "    df_2017['Year'] = 2017\n",
    "    df_2017 = df_2017[['Country', 'Year', 'Happiness.Score', 'Whisker.low', 'Whisker.high', 'Economy..GDP.per.Capita.', 'Family', 'Health..Life.Expectancy.', 'Freedom', 'Trust..Government.Corruption.', 'Generosity', 'Dystopia.Residual']]\n",
    "    df_2017.columns = ['Country', 'Year', 'Score', 'Low', 'High', 'Economy', 'Family', 'Health', 'Freedom', 'Trust', 'Generosity', 'Dystopia']\n",
    "    df_2017[['Score', 'Low', 'High', 'Economy', 'Family', 'Health', 'Freedom', 'Trust', 'Generosity', 'Dystopia']] = df_2017[['Score', 'Low', 'High', 'Economy', 'Family', 'Health', 'Freedom', 'Trust', 'Generosity', 'Dystopia']].astype(float)"
   ]
  },
  {
   "cell_type": "code",
   "execution_count": null,
   "metadata": {},
   "outputs": [],
   "source": [
    "df_2017"
   ]
  },
  {
   "cell_type": "code",
   "execution_count": null,
   "metadata": {},
   "outputs": [],
   "source": [
    "#Merging 2015, 2016, 2017\n",
    "df_score = pd.concat([df_2015, df_2016, df_2017])\n",
    "df_score.sort_values(by=['Country', 'Year'], inplace=True)\n",
    "df_count = df_score.groupby('Country').count()\n",
    "df_score.reset_index(inplace=True, drop=True)"
   ]
  },
  {
   "cell_type": "code",
   "execution_count": null,
   "metadata": {},
   "outputs": [],
   "source": [
    "for country,row in df_count.iterrows():\n",
    "    if(row['Year'] != 3):\n",
    "        df_score.drop(df_score.loc[df_score['Country'] == country].index, inplace=True)\n",
    "df_score.reset_index(inplace=True, drop=True)\n",
    "df_score"
   ]
  },
  {
   "cell_type": "code",
   "execution_count": null,
   "metadata": {},
   "outputs": [],
   "source": [
    "#Processing indicators\n",
    "with open('fd1f9f89-994a-4025-b070-d32551a7c283_Data.csv', 'r') as csvfile:\n",
    "    spamreader = csv.reader(csvfile, delimiter=',')\n",
    "    data = list(spamreader)\n",
    "    data = np.asarray(data)\n",
    "    df = pd.DataFrame(data=data[1:-1556], columns=data[0])\n",
    "    df.drop(columns=['Country Code', 'Series Name'], axis=1, inplace=True)\n",
    "    df.columns = ['Country', 'Series', '2013', '2014', '2015', '2016', '2017', '2018']\n",
    "    df.loc[df['2015'] == '..', '2015'] = {}\n",
    "    df.loc[df['2016'] == '..', '2016'] = {}\n",
    "    df.loc[df['2017'] == '..', '2017'] = {}\n",
    "    df['2015'] = df['2015'].astype(float)\n",
    "    df['2016'] = df['2016'].astype(float)\n",
    "    df['2017'] = df['2017'].astype(float)\n",
    "    df = df[['Country', 'Series', '2015', '2016', '2017']]"
   ]
  },
  {
   "cell_type": "code",
   "execution_count": null,
   "metadata": {},
   "outputs": [],
   "source": [
    "df"
   ]
  },
  {
   "cell_type": "code",
   "execution_count": null,
   "metadata": {},
   "outputs": [],
   "source": [
    "#Removing missing countries\n",
    "countries = df['Country'].unique()\n",
    "df_score.drop(df_score.loc[~df_score['Country'].isin(countries)].index, inplace=True)\n",
    "df_score.reset_index(inplace=True, drop=True)\n",
    "df_score"
   ]
  },
  {
   "cell_type": "code",
   "execution_count": null,
   "metadata": {},
   "outputs": [],
   "source": [
    "#Combining the datasets\n",
    "countries = df_score['Country'].unique()\n",
    "for c in countries:\n",
    "    indices = df.loc[df['Country'] == c].index\n",
    "    if(indices.size == 0):\n",
    "        continue\n",
    "    \n",
    "    c_ind = df_score.loc[df_score['Country'] == c].index\n",
    "    for i in indices:\n",
    "        df_score.at[c_ind[0], 'Ind '+str(i%33+1)] = df.loc[i]['2015']\n",
    "        df_score.at[c_ind[1], 'Ind '+str(i%33+1)] = df.loc[i]['2016']\n",
    "        df_score.at[c_ind[2], 'Ind '+str(i%33+1)] = df.loc[i]['2017']\n",
    "df_score.to_csv('happiness_null.csv', sep=',', encoding='utf-8')\n",
    "df_score"
   ]
  },
  {
   "cell_type": "code",
   "execution_count": null,
   "metadata": {},
   "outputs": [],
   "source": [
    "#Data interpolation\n",
    "df_score.interpolate(inplace=True)\n",
    "df_score = df_score.reindex(index=df_score.index[::-1])\n",
    "df_score.interpolate(inplace=True)\n",
    "df = df_score.reindex(index=df_score.index[::-1])\n",
    "df"
   ]
  },
  {
   "cell_type": "code",
   "execution_count": null,
   "metadata": {},
   "outputs": [],
   "source": [
    "#Saving as pickle file\n",
    "df.to_pickle('happiness_data.pkl')"
   ]
  },
  {
   "cell_type": "code",
   "execution_count": null,
   "metadata": {},
   "outputs": [],
   "source": [
    "#Saving as CSV file\n",
    "df.to_csv('happiness_data.csv', sep=',', encoding='utf-8')"
   ]
  },
  {
   "cell_type": "code",
   "execution_count": null,
   "metadata": {},
   "outputs": [],
   "source": []
  }
 ],
 "metadata": {
  "kernelspec": {
   "display_name": "Python 3",
   "language": "python",
   "name": "python3"
  },
  "language_info": {
   "codemirror_mode": {
    "name": "ipython",
    "version": 3
   },
   "file_extension": ".py",
   "mimetype": "text/x-python",
   "name": "python",
   "nbconvert_exporter": "python",
   "pygments_lexer": "ipython3",
   "version": "3.7.1"
  }
 },
 "nbformat": 4,
 "nbformat_minor": 2
}
