{
 "cells": [
  {
   "cell_type": "markdown",
   "metadata": {},
   "source": [
    "# Random Forest Regressor"
   ]
  },
  {
   "cell_type": "code",
   "execution_count": 1,
   "metadata": {},
   "outputs": [],
   "source": [
    "import numpy as np\n",
    "import pandas as pd\n",
    "import matplotlib.pyplot as plt\n",
    "from sklearn.ensemble import RandomForestRegressor\n",
    "from sklearn.metrics import r2_score"
   ]
  },
  {
   "cell_type": "code",
   "execution_count": 2,
   "metadata": {
    "scrolled": true
   },
   "outputs": [],
   "source": [
    "df = pd.read_pickle('data/happiness_data.pkl')"
   ]
  },
  {
   "cell_type": "code",
   "execution_count": 3,
   "metadata": {},
   "outputs": [],
   "source": [
    "years_train = [2015, 2016]\n",
    "years_test = [2017]\n",
    "train_features = df.loc[df['Year'].isin(years_train)]\n",
    "test_features = df.loc[df['Year'].isin(years_test)]\n",
    "train_features.reset_index(inplace=True, drop=True)\n",
    "test_features.reset_index(inplace=True, drop=True)"
   ]
  },
  {
   "cell_type": "code",
   "execution_count": 4,
   "metadata": {
    "scrolled": true
   },
   "outputs": [],
   "source": [
    "df_train = train_features.drop(columns=['Country', 'Year', 'Score', 'Low', 'High', 'Economy', 'Family', 'Health', 'Freedom', 'Trust', 'Generosity', 'Dystopia'], axis=1)\n",
    "df_test = test_features.drop(columns=['Country', 'Year', 'Score', 'Low', 'High', 'Economy', 'Family', 'Health', 'Freedom', 'Trust', 'Generosity', 'Dystopia'], axis=1)"
   ]
  },
  {
   "cell_type": "code",
   "execution_count": 5,
   "metadata": {},
   "outputs": [],
   "source": [
    "df_economy_train = pd.read_pickle('data/economy_train.pkl')\n",
    "df_family_train = pd.read_pickle('data/family_train.pkl')\n",
    "df_health_train = pd.read_pickle('data/health_train.pkl')\n",
    "df_freedom_train = pd.read_pickle('data/freedom_train.pkl')\n",
    "df_trust_train = pd.read_pickle('data/trust_train.pkl')\n",
    "df_generosity_train = pd.read_pickle('data/generosity_train.pkl')\n",
    "df_dystopia_train = pd.read_pickle('data/dystopia_train.pkl')\n",
    "\n",
    "df_economy_test = pd.read_pickle('data/economy_test.pkl')\n",
    "df_family_test = pd.read_pickle('data/family_test.pkl')\n",
    "df_health_test = pd.read_pickle('data/health_test.pkl')\n",
    "df_freedom_test = pd.read_pickle('data/freedom_test.pkl')\n",
    "df_trust_test = pd.read_pickle('data/trust_test.pkl')\n",
    "df_generosity_test = pd.read_pickle('data/generosity_test.pkl')\n",
    "df_dystopia_test = pd.read_pickle('data/dystopia_test.pkl')"
   ]
  },
  {
   "cell_type": "code",
   "execution_count": 6,
   "metadata": {},
   "outputs": [],
   "source": [
    "#Fetching training and test data set\n",
    "score_train = pd.DataFrame(train_features['Score'])\n",
    "economy_train = pd.DataFrame(train_features['Economy'])\n",
    "family_train = pd.DataFrame(train_features['Family'])\n",
    "health_train = pd.DataFrame(train_features['Health'])\n",
    "freedom_train = pd.DataFrame(train_features['Freedom'])\n",
    "trust_train = pd.DataFrame(train_features['Trust'])\n",
    "generosity_train = pd.DataFrame(train_features['Generosity'])\n",
    "dystopia_train = pd.DataFrame(train_features['Dystopia'])\n",
    "\n",
    "score_test = pd.DataFrame(test_features['Score'])\n",
    "economy_test = pd.DataFrame(test_features['Economy'])\n",
    "family_test = pd.DataFrame(test_features['Family'])\n",
    "health_test = pd.DataFrame(test_features['Health'])\n",
    "freedom_test = pd.DataFrame(test_features['Freedom'])\n",
    "trust_test = pd.DataFrame(test_features['Trust'])\n",
    "generosity_test = pd.DataFrame(test_features['Generosity'])\n",
    "dystopia_test = pd.DataFrame(test_features['Dystopia'])\n",
    "\n",
    "low_score = pd.DataFrame(test_features['Low'])\n",
    "high_score = pd.DataFrame(test_features['High'])"
   ]
  },
  {
   "cell_type": "code",
   "execution_count": 7,
   "metadata": {
    "scrolled": true
   },
   "outputs": [
    {
     "name": "stdout",
     "output_type": "stream",
     "text": [
      "R2 score:  0.8011810490600753\n"
     ]
    },
    {
     "data": {
      "text/plain": [
       "array([0.28128615, 0.04887999, 0.35424542, 0.25869368, 0.16565907,\n",
       "       0.01416061, 0.13752795, 0.16258517, 0.23321855, 0.12331026,\n",
       "       0.11893856, 0.01289885, 0.26037445, 0.14457007, 0.02209197,\n",
       "       0.02455511, 0.06168311, 0.19095812, 0.15707195, 0.03089379,\n",
       "       0.10788329, 0.03500172, 0.16227226, 0.11876961, 0.15738033,\n",
       "       0.0840184 , 0.12958824, 0.08862237, 0.12450529, 0.17009608,\n",
       "       0.02618214, 0.17972535, 0.04097858, 0.28372149, 0.23215588,\n",
       "       0.04010389, 0.05643364, 0.0031423 , 0.43687974, 0.1373319 ,\n",
       "       0.10191174, 0.29240838, 0.04975082, 0.22419331, 0.06258755,\n",
       "       0.19693899, 0.41872359, 0.05095899, 0.1646235 , 0.13566747,\n",
       "       0.01401038, 0.2029701 , 0.01325626, 0.04832675, 0.18212621,\n",
       "       0.02327387, 0.11348377, 0.11104275, 0.01826944, 0.2620519 ,\n",
       "       0.08349639, 0.18953714, 0.19772038, 0.02594357, 0.1679868 ,\n",
       "       0.02885056, 0.00855403, 0.44732522, 0.16340911, 0.07656149,\n",
       "       0.33815172, 0.10501023, 0.19949977, 0.03000258, 0.05924753,\n",
       "       0.05738468, 0.12540137, 0.15471012, 0.13362525, 0.11422069,\n",
       "       0.05139236, 0.08411011, 0.16033226, 0.07100608, 0.08361455,\n",
       "       0.1997424 , 0.20453373, 0.05700418, 0.07139302, 0.08753671,\n",
       "       0.27910019, 0.13690087, 0.18180349, 0.05450958, 0.05035161,\n",
       "       0.06751251, 0.08814591, 0.04598875, 0.16486584, 0.02429577,\n",
       "       0.21108444, 0.23085385, 0.06557714, 0.02245746, 0.33755812,\n",
       "       0.15791508, 0.11914818, 0.11695658, 0.09039712, 0.04726535,\n",
       "       0.05352549, 0.08611457, 0.22491197, 0.12873615, 0.14429634,\n",
       "       0.12161046, 0.11974074, 0.29078401, 0.0848385 , 0.13553256,\n",
       "       0.76120081, 0.41966587, 0.02560879, 0.44343061, 0.23979487,\n",
       "       0.25459192, 0.06293903, 0.08251164, 0.0642275 , 0.2694468 ,\n",
       "       0.06356901])"
      ]
     },
     "execution_count": 7,
     "metadata": {},
     "output_type": "execute_result"
    }
   ],
   "source": [
    "#Training the model to predict Economy\n",
    "rf = RandomForestRegressor(n_estimators=1000)\n",
    "rf.fit(df_economy_train, economy_train.values.ravel())\n",
    "economy_predictions = rf.predict(df_economy_test)\n",
    "errors = abs(economy_predictions - economy_test.values.ravel())\n",
    "accuracy = r2_score(economy_test.values.ravel(), economy_predictions)\n",
    "print('R2 score: ', accuracy)\n",
    "errors"
   ]
  },
  {
   "cell_type": "code",
   "execution_count": 8,
   "metadata": {},
   "outputs": [
    {
     "name": "stdout",
     "output_type": "stream",
     "text": [
      "R2 score:  -0.7245571435658835\n"
     ]
    },
    {
     "data": {
      "text/plain": [
       "array([0.16104484, 0.04453599, 0.30817099, 0.33618781, 0.51523975,\n",
       "       0.21308102, 0.31772129, 0.26090819, 0.26520404, 0.25361714,\n",
       "       0.11583196, 0.28412225, 0.28202366, 0.08607852, 0.46234204,\n",
       "       0.39260782, 0.13059454, 0.41635974, 0.45525006, 0.32224642,\n",
       "       0.43490146, 0.22209074, 0.19128739, 0.18697499, 0.33459474,\n",
       "       0.38703877, 0.29422052, 0.17948634, 0.44998369, 0.43745302,\n",
       "       0.07212601, 0.19362619, 0.27416469, 0.37266334, 0.52212068,\n",
       "       0.26728364, 0.27697889, 0.30705594, 0.14751729, 0.38965119,\n",
       "       0.23233108, 0.24648344, 0.28497941, 0.29368477, 0.18933391,\n",
       "       0.39540874, 0.27809765, 0.25485625, 0.0511106 , 0.16703998,\n",
       "       0.1182362 , 0.42538865, 0.03577211, 0.34964948, 0.1303999 ,\n",
       "       0.35680757, 0.21198973, 0.3158821 , 0.49032055, 0.48136777,\n",
       "       0.27068761, 0.30673835, 0.24189556, 0.23129843, 0.23193958,\n",
       "       0.37292938, 0.18039796, 0.30024507, 0.54067635, 0.41200098,\n",
       "       0.29800482, 0.22464605, 0.0150208 , 0.26698307, 0.73572713,\n",
       "       0.46600337, 0.4902521 , 0.4331409 , 0.17453462, 0.29222217,\n",
       "       0.4048515 , 0.30005955, 0.20678023, 0.432856  , 0.27509134,\n",
       "       0.2209612 , 0.49648134, 0.38627707, 0.37223616, 0.588934  ,\n",
       "       0.38835407, 0.19657023, 0.3771798 , 0.42631967, 0.24097681,\n",
       "       0.31836413, 0.41576493, 0.36911677, 0.31997513, 0.02834749,\n",
       "       0.16061574, 0.28070471, 0.37470612, 0.31704718, 0.35864775,\n",
       "       0.25203517, 0.26460195, 0.4171551 , 0.35200646, 0.16253015,\n",
       "       0.44648359, 0.25544097, 0.34022858, 0.48233144, 0.17810563,\n",
       "       0.36524727, 0.03284989, 0.48829286, 0.04732442, 0.34694407,\n",
       "       0.71133166, 0.3599299 , 0.50649281, 0.31310562, 0.58975305,\n",
       "       0.4003499 , 0.51790919, 0.56980476, 0.27755706, 0.47515383,\n",
       "       0.50528833])"
      ]
     },
     "execution_count": 8,
     "metadata": {},
     "output_type": "execute_result"
    }
   ],
   "source": [
    "#Training the model to predict Family\n",
    "rf = RandomForestRegressor(n_estimators=1000)\n",
    "rf.fit(df_family_train, family_train.values.ravel())\n",
    "family_predictions = rf.predict(df_family_test)\n",
    "errors = abs(family_predictions - family_test.values.ravel())\n",
    "accuracy = r2_score(family_test.values.ravel(), family_predictions)\n",
    "print('R2 score: ', accuracy)\n",
    "errors"
   ]
  },
  {
   "cell_type": "code",
   "execution_count": 9,
   "metadata": {},
   "outputs": [
    {
     "name": "stdout",
     "output_type": "stream",
     "text": [
      "R2 score:  0.9426239171013356\n"
     ]
    },
    {
     "data": {
      "text/plain": [
       "array([0.33048409, 0.06637281, 0.54802821, 0.96342981, 0.73501836,\n",
       "       0.32899807, 0.64094826, 0.64557029, 0.58159373, 0.61905727,\n",
       "       0.18063304, 0.72136374, 0.61531271, 0.2520551 , 0.79076177,\n",
       "       0.70321037, 0.31504852, 0.96056888, 0.75628353, 0.68516848,\n",
       "       0.83847814, 0.41318509, 0.48729635, 0.74278267, 0.64745425,\n",
       "       0.82466198, 0.5002117 , 0.42637579, 0.7197827 , 0.67806758,\n",
       "       0.23407089, 0.28162269, 0.60289774, 0.74672895, 0.81384964,\n",
       "       0.57645931, 0.52814692, 0.71582153, 0.49836524, 0.68248172,\n",
       "       0.5171169 , 0.78342875, 0.1061793 , 0.61413056, 0.55193305,\n",
       "       0.42921934, 0.67546721, 0.58575951, 0.31776315, 0.51027417,\n",
       "       0.60376778, 0.72381053, 0.36167135, 0.72550162, 0.4272089 ,\n",
       "       0.69852317, 0.50475254, 0.56573539, 0.74029274, 0.54164906,\n",
       "       0.6006918 , 0.71541848, 0.73352409, 0.47164393, 0.57014785,\n",
       "       0.6478541 , 0.37560196, 0.56929819, 0.71410456, 0.71190656,\n",
       "       0.61237285, 0.5669097 , 0.2089037 , 0.60219876, 1.1055245 ,\n",
       "       0.67946847, 0.96681674, 0.53670718, 0.50481465, 0.68125425,\n",
       "       0.81343061, 0.45945405, 0.18423491, 0.71788452, 0.64171989,\n",
       "       0.56387596, 0.7189066 , 0.60798807, 0.74768104, 1.05925837,\n",
       "       0.70379783, 0.25527386, 0.67397211, 0.88335618, 0.54396426,\n",
       "       0.71072766, 0.68251132, 0.5206106 , 0.53149433, 0.42351788,\n",
       "       0.61954502, 0.59779508, 0.80866148, 0.54030619, 0.87863071,\n",
       "       0.44069228, 0.61618845, 1.08176601, 0.63268621, 0.59079347,\n",
       "       0.86888448, 0.61700502, 0.64559663, 0.70895544, 0.68001417,\n",
       "       0.72523843, 0.15003184, 0.82291578, 0.22156933, 0.65204851,\n",
       "       1.05967821, 0.87223021, 0.68478165, 0.52355538, 0.63915685,\n",
       "       0.62026334, 0.65866754, 0.99938255, 0.6382061 , 0.76047866,\n",
       "       0.82442231])"
      ]
     },
     "execution_count": 9,
     "metadata": {},
     "output_type": "execute_result"
    }
   ],
   "source": [
    "#Training the model to predict Health\n",
    "rf = RandomForestRegressor(n_estimators=1000)\n",
    "rf.fit(df_health_train, health_train.values.ravel())\n",
    "health_predictions = rf.predict(df_health_test)\n",
    "errors = abs(health_predictions - family_test.values.ravel())\n",
    "accuracy = r2_score(health_test.values.ravel(), health_predictions)\n",
    "print('R2 score: ', accuracy)\n",
    "errors"
   ]
  },
  {
   "cell_type": "code",
   "execution_count": 10,
   "metadata": {},
   "outputs": [
    {
     "name": "stdout",
     "output_type": "stream",
     "text": [
      "R2 score:  0.4585019201331324\n"
     ]
    },
    {
     "data": {
      "text/plain": [
       "array([0.14320105, 0.0007657 , 0.13595956, 0.21547377, 0.08014981,\n",
       "       0.08590278, 0.05632094, 0.01529636, 0.07933114, 0.07054965,\n",
       "       0.01303811, 0.16579035, 0.0361452 , 0.13926173, 0.01811406,\n",
       "       0.11141601, 0.15598904, 0.10431913, 0.14045374, 0.21095574,\n",
       "       0.05746451, 0.25243059, 0.13969343, 0.07738002, 0.17585207,\n",
       "       0.08741425, 0.06175139, 0.0170512 , 0.00205103, 0.29556373,\n",
       "       0.0292328 , 0.00381213, 0.02420247, 0.09849571, 0.05010515,\n",
       "       0.01006173, 0.07525696, 0.066273  , 0.03957569, 0.14445836,\n",
       "       0.04163555, 0.0704491 , 0.002001  , 0.03990266, 0.15084382,\n",
       "       0.1267873 , 0.21287885, 0.04724268, 0.21911335, 0.13807498,\n",
       "       0.24918775, 0.0658309 , 0.00794661, 0.0298318 , 0.09697714,\n",
       "       0.03911623, 0.06882554, 0.15717735, 0.12851702, 0.02879077,\n",
       "       0.02616229, 0.0199616 , 0.09088801, 0.06038993, 0.0479068 ,\n",
       "       0.09473953, 0.05860658, 0.08058203, 0.08982784, 0.20686137,\n",
       "       0.05571074, 0.09412796, 0.08271202, 0.03629471, 0.01395021,\n",
       "       0.08387896, 0.21423486, 0.04885789, 0.04387974, 0.20346711,\n",
       "       0.08907508, 0.19799077, 0.04890573, 0.06377875, 0.02417712,\n",
       "       0.03871757, 0.0835184 , 0.07118451, 0.05842338, 0.12139652,\n",
       "       0.10367717, 0.00150269, 0.08915588, 0.06169479, 0.03016177,\n",
       "       0.04846503, 0.1549356 , 0.12790504, 0.10865597, 0.03519921,\n",
       "       0.19663896, 0.02055113, 0.00911161, 0.04005509, 0.01766521,\n",
       "       0.03133242, 0.01636634, 0.15395708, 0.0126084 , 0.06097979,\n",
       "       0.35122516, 0.07113257, 0.09533563, 0.10974716, 0.01740691,\n",
       "       0.0595991 , 0.10532875, 0.15071146, 0.06085532, 0.06591659,\n",
       "       0.06363781, 0.1140189 , 0.13537467, 0.13920545, 0.00674032,\n",
       "       0.02991555, 0.13855814, 0.18334514, 0.05124255, 0.10737846,\n",
       "       0.04081869])"
      ]
     },
     "execution_count": 10,
     "metadata": {},
     "output_type": "execute_result"
    }
   ],
   "source": [
    "#Training the model to predict Freedom\n",
    "rf = RandomForestRegressor(n_estimators=1000)\n",
    "rf.fit(df_freedom_train, freedom_train.values.ravel())\n",
    "freedom_predictions = rf.predict(df_freedom_test)\n",
    "errors = abs(freedom_predictions - freedom_test.values.ravel())\n",
    "accuracy = r2_score(freedom_test.values.ravel(), freedom_predictions)\n",
    "print('R2 score: ', accuracy)\n",
    "errors"
   ]
  },
  {
   "cell_type": "code",
   "execution_count": 11,
   "metadata": {},
   "outputs": [
    {
     "name": "stdout",
     "output_type": "stream",
     "text": [
      "R2 score:  0.36840870827314987\n"
     ]
    },
    {
     "data": {
      "text/plain": [
       "array([0.03132313, 0.08976472, 0.01858799, 0.04034574, 0.03136157,\n",
       "       0.07709533, 0.11338414, 0.00603841, 0.06844955, 0.01704135,\n",
       "       0.01152909, 0.04992003, 0.06474118, 0.04720926, 0.02921724,\n",
       "       0.03308537, 0.12358435, 0.00342979, 0.05119622, 0.08399109,\n",
       "       0.05354081, 0.08562166, 0.03961963, 0.05374445, 0.2156055 ,\n",
       "       0.04737737, 0.07165526, 0.06539685, 0.08468298, 0.03743314,\n",
       "       0.09645018, 0.05181266, 0.15537262, 0.12975411, 0.02401161,\n",
       "       0.02496229, 0.02304343, 0.0227266 , 0.00039155, 0.11323653,\n",
       "       0.02868942, 0.12200471, 0.03487592, 0.11853458, 0.09357381,\n",
       "       0.05180606, 0.01688026, 0.02547349, 0.00633877, 0.04119205,\n",
       "       0.15223146, 0.01507394, 0.00866697, 0.11668221, 0.07019858,\n",
       "       0.01541424, 0.02755314, 0.07620752, 0.02613434, 0.06479418,\n",
       "       0.01053953, 0.00550155, 0.03742699, 0.10398305, 0.03983913,\n",
       "       0.0051759 , 0.15602745, 0.26138447, 0.07392447, 0.02215593,\n",
       "       0.00373075, 0.14576937, 0.04361284, 0.0405151 , 0.03992632,\n",
       "       0.01079936, 0.00150787, 0.02984058, 0.0047693 , 0.07207618,\n",
       "       0.11394284, 0.03843122, 0.00819391, 0.07539558, 0.06581174,\n",
       "       0.0869567 , 0.24503822, 0.01434316, 0.06246352, 0.04539889,\n",
       "       0.13574372, 0.05116513, 0.14516402, 0.09217049, 0.1116554 ,\n",
       "       0.02524751, 0.00667528, 0.14603555, 0.00109034, 0.2110766 ,\n",
       "       0.09549992, 0.01182789, 0.05759426, 0.05297852, 0.05817125,\n",
       "       0.1103319 , 0.07546817, 0.03706559, 0.03406493, 0.03330307,\n",
       "       0.02473351, 0.25752837, 0.22518722, 0.15117706, 0.02675315,\n",
       "       0.05383699, 0.01903072, 0.04633213, 0.01961472, 0.07960285,\n",
       "       0.08003735, 0.0055697 , 0.10255711, 0.02395846, 0.08514293,\n",
       "       0.01303147, 0.08768831, 0.01914399, 0.04712036, 0.06980543,\n",
       "       0.01177509])"
      ]
     },
     "execution_count": 11,
     "metadata": {},
     "output_type": "execute_result"
    }
   ],
   "source": [
    "# Training the model to predict Trust\n",
    "rf = RandomForestRegressor(n_estimators=1000)\n",
    "rf.fit(df_trust_train, trust_train.values.ravel())\n",
    "trust_predictions = rf.predict(df_trust_test)\n",
    "errors = abs(trust_predictions - trust_test.values.ravel())\n",
    "accuracy = r2_score(trust_test.values.ravel(), trust_predictions)\n",
    "print('R2 score: ', accuracy)\n",
    "errors"
   ]
  },
  {
   "cell_type": "code",
   "execution_count": 12,
   "metadata": {},
   "outputs": [
    {
     "name": "stdout",
     "output_type": "stream",
     "text": [
      "R2 score:  0.15732064603166285\n"
     ]
    },
    {
     "data": {
      "text/plain": [
       "array([0.10113204, 0.06689501, 0.11356106, 0.05395914, 0.04838709,\n",
       "       0.08761972, 0.1459179 , 0.03685553, 0.11146218, 0.03941212,\n",
       "       0.14712504, 0.01809066, 0.01323907, 0.17842719, 0.14568245,\n",
       "       0.10424755, 0.14810996, 0.07332284, 0.00422078, 0.07267134,\n",
       "       0.03292065, 0.0276349 , 0.14989753, 0.00138275, 0.23145541,\n",
       "       0.02354003, 0.07491295, 0.20139139, 0.05117166, 0.01074933,\n",
       "       0.01403544, 0.06651837, 0.20557637, 0.00607271, 0.02078571,\n",
       "       0.04848868, 0.23143604, 0.21923303, 0.10177343, 0.02477187,\n",
       "       0.04784926, 0.11229528, 0.05302493, 0.09195145, 0.09994276,\n",
       "       0.18582686, 0.02668138, 0.06241613, 0.21433678, 0.16320577,\n",
       "       0.16314189, 0.06856817, 0.11012064, 0.36447301, 0.01393864,\n",
       "       0.11746091, 0.00268209, 0.04227488, 0.07526642, 0.14672709,\n",
       "       0.02824395, 0.02759302, 0.16976215, 0.12950516, 0.02255691,\n",
       "       0.04345482, 0.05085943, 0.08677039, 0.03009387, 0.11698501,\n",
       "       0.03073298, 0.04726781, 0.02560993, 0.05400559, 0.2429262 ,\n",
       "       0.19145051, 0.02297238, 0.10693781, 0.30611792, 0.14598761,\n",
       "       0.06595662, 0.0434722 , 0.23794876, 0.57920166, 0.04653063,\n",
       "       0.08697327, 0.22453584, 0.01705882, 0.01458046, 0.02381859,\n",
       "       0.01722174, 0.07642543, 0.05879156, 0.02914013, 0.1393717 ,\n",
       "       0.15615528, 0.01475659, 0.03423371, 0.0346213 , 0.09979057,\n",
       "       0.05871967, 0.09436748, 0.01627354, 0.04352974, 0.04097052,\n",
       "       0.06947735, 0.03094013, 0.07392329, 0.01807782, 0.20339173,\n",
       "       0.08188029, 0.05457889, 0.00205878, 0.03430333, 0.01003777,\n",
       "       0.33623168, 0.04223957, 0.15523213, 0.17219782, 0.10203261,\n",
       "       0.04221342, 0.17892102, 0.02558104, 0.07608423, 0.08146067,\n",
       "       0.08422464, 0.06628524, 0.13366165, 0.02043447, 0.23860684,\n",
       "       0.02918938])"
      ]
     },
     "execution_count": 12,
     "metadata": {},
     "output_type": "execute_result"
    }
   ],
   "source": [
    "#Training the model to predict Generosity\n",
    "rf = RandomForestRegressor(n_estimators=1000)\n",
    "rf.fit(df_generosity_train, generosity_train.values.ravel())\n",
    "generosity_predictions = rf.predict(df_generosity_test)\n",
    "errors = abs(generosity_predictions - generosity_test.values.ravel())\n",
    "accuracy = r2_score(generosity_test.values.ravel(), generosity_predictions)\n",
    "print('R2 score: ', accuracy)\n",
    "errors"
   ]
  },
  {
   "cell_type": "code",
   "execution_count": 13,
   "metadata": {},
   "outputs": [
    {
     "name": "stdout",
     "output_type": "stream",
     "text": [
      "R2 score:  -0.16754626085820967\n"
     ]
    },
    {
     "data": {
      "text/plain": [
       "array([0.02063425, 0.78965976, 0.12554662, 0.53320913, 0.34191132,\n",
       "       0.63197462, 0.30747208, 0.29802445, 0.47911895, 0.55117817,\n",
       "       0.18953281, 0.56786515, 0.03055348, 0.27341296, 0.82140765,\n",
       "       0.06216816, 0.41121762, 1.70559533, 0.24365563, 0.95942157,\n",
       "       0.14611214, 0.4907297 , 0.42655582, 0.02632599, 0.08743083,\n",
       "       0.06162282, 0.30559622, 0.55874819, 0.28908539, 0.24708998,\n",
       "       0.50126166, 0.31955398, 0.26533405, 0.01920367, 0.3540137 ,\n",
       "       0.38140494, 0.55835698, 0.9197747 , 0.51217979, 0.12482683,\n",
       "       0.3978859 , 0.30018868, 0.48718058, 0.28915159, 0.65417284,\n",
       "       0.61477376, 0.70597316, 0.42947183, 0.51766495, 0.21904807,\n",
       "       0.35761666, 0.04534031, 0.79286839, 0.84589837, 0.74437705,\n",
       "       0.33206686, 0.27656347, 0.62090359, 0.59399623, 1.11770007,\n",
       "       0.52382121, 0.72136788, 0.55717891, 0.33883028, 0.47614302,\n",
       "       0.17571078, 0.58473604, 0.64630686, 0.61203664, 0.01663829,\n",
       "       0.61768132, 0.1568959 , 0.24624312, 0.07793915, 0.39134487,\n",
       "       0.54890251, 0.51122071, 0.50072822, 0.09121442, 0.34238721,\n",
       "       0.92155322, 0.44625294, 0.21648766, 0.63065626, 0.1163822 ,\n",
       "       0.10869073, 0.2545067 , 0.54184478, 0.04325383, 0.20613074,\n",
       "       0.03827267, 0.14288493, 0.24997037, 0.5384482 , 0.12676063,\n",
       "       0.27056082, 0.06173703, 0.73954581, 0.79085756, 0.21838135,\n",
       "       0.76175459, 0.32971844, 0.20859093, 0.27555444, 0.58778019,\n",
       "       0.5801392 , 0.69433823, 0.89597959, 0.43145208, 1.69883634,\n",
       "       0.60588301, 0.29265715, 0.21021143, 0.36396978, 1.50533925,\n",
       "       0.11542245, 0.16305643, 0.20039781, 0.49345399, 0.38865598,\n",
       "       0.10852606, 0.2724653 , 1.12473525, 0.43178517, 0.47565548,\n",
       "       0.43521447, 0.32806384, 0.52338184, 0.55731336, 0.60909925,\n",
       "       0.80498527])"
      ]
     },
     "execution_count": 13,
     "metadata": {},
     "output_type": "execute_result"
    }
   ],
   "source": [
    "#Training the model to predict Dystopia\n",
    "rf = RandomForestRegressor(n_estimators=1000)\n",
    "rf.fit(df_dystopia_train, dystopia_train.values.ravel())\n",
    "dystopia_predictions = rf.predict(df_dystopia_test)\n",
    "errors = abs(dystopia_predictions - dystopia_test.values.ravel())\n",
    "accuracy = r2_score(dystopia_test.values.ravel(), dystopia_predictions)\n",
    "print('R2 score: ', accuracy)\n",
    "errors"
   ]
  },
  {
   "cell_type": "code",
   "execution_count": 14,
   "metadata": {},
   "outputs": [
    {
     "name": "stdout",
     "output_type": "stream",
     "text": [
      "R2 score:  0.7574300525148794\n",
      "Accuracy:  91.44490470012306\n"
     ]
    },
    {
     "data": {
      "text/plain": [
       "array([2.84357044e-01, 8.13727499e-01, 3.25193807e-01, 3.39057731e-01,\n",
       "       3.29487768e-01, 6.95881939e-01, 4.38148285e-01, 1.53844334e-01,\n",
       "       2.69641943e-01, 1.77254861e-01, 5.91298996e-01, 4.90974081e-01,\n",
       "       6.31677700e-01, 5.63537415e-01, 2.41208343e-01, 2.29132890e-01,\n",
       "       5.23245480e-01, 9.90387893e-01, 4.97250621e-01, 1.01454907e+00,\n",
       "       4.44433894e-01, 7.33860556e-01, 8.76841216e-02, 2.86890516e-01,\n",
       "       1.02773246e+00, 5.27255213e-03, 7.06856864e-01, 7.44516125e-01,\n",
       "       6.00535529e-02, 1.12308367e+00, 6.91675015e-01, 5.97960075e-02,\n",
       "       1.18983303e-01, 8.98248983e-01, 3.92245001e-01, 1.61903376e-01,\n",
       "       5.03859732e-01, 9.44820259e-01, 6.73484570e-01, 6.35812545e-01,\n",
       "       6.69693059e-02, 8.21447382e-02, 7.69804523e-01, 4.19999409e-01,\n",
       "       3.95989201e-01, 3.87185888e-01, 1.58585584e+00, 2.77153464e-01,\n",
       "       6.87653424e-01, 5.80762388e-01, 8.69823790e-01, 6.79576420e-01,\n",
       "       8.01024125e-01, 2.86711599e-01, 6.63008875e-01, 1.39306155e-01,\n",
       "       4.75059696e-01, 4.95396563e-01, 1.05801012e-01, 4.08546842e-01,\n",
       "       1.59840355e-01, 3.29615665e-01, 3.13805008e-01, 2.41235493e-01,\n",
       "       6.84418492e-02, 2.55544232e-02, 5.78747214e-01, 9.60063827e-01,\n",
       "       1.47906367e-02, 6.48877228e-03, 1.01294645e-01, 8.51183113e-02,\n",
       "       3.54271901e-01, 1.33010166e-01, 1.27995604e-01, 2.73553090e-01,\n",
       "       1.51531391e-01, 1.78321198e-01, 1.24025767e-01, 1.18182218e-01,\n",
       "       7.24001316e-01, 4.53671291e-01, 2.95622479e-01, 4.42198017e-01,\n",
       "       1.64929811e-03, 4.70372898e-01, 9.87070959e-01, 1.02700782e+00,\n",
       "       2.99026625e-01, 4.70705343e-01, 8.18243145e-01, 1.98854147e-01,\n",
       "       2.01284283e-01, 2.85433092e-01, 1.61563832e-01, 9.30935630e-02,\n",
       "       5.25488967e-01, 4.27575237e-01, 2.63125219e-01, 1.16133628e-01,\n",
       "       4.60860825e-01, 2.14393111e-02, 1.71217898e-01, 5.27742901e-02,\n",
       "       4.73648034e-01, 7.72623079e-02, 3.84476222e-01, 4.34436893e-01,\n",
       "       2.90743033e-03, 1.30210183e+00, 7.24639945e-01, 4.02171471e-01,\n",
       "       6.63960927e-01, 1.37688913e-01, 1.52326885e+00, 6.59768681e-01,\n",
       "       3.05983201e-01, 8.01254108e-01, 6.47706856e-01, 2.01846782e-01,\n",
       "       1.77117319e+00, 8.50715699e-02, 9.89595237e-01, 4.99993285e-01,\n",
       "       4.61822903e-01, 2.36096414e-01, 3.78437103e-01, 2.48391274e-01,\n",
       "       3.47595875e-01, 4.99378524e-02, 2.97763083e-01])"
      ]
     },
     "execution_count": 14,
     "metadata": {},
     "output_type": "execute_result"
    }
   ],
   "source": [
    "#Predicting Score\n",
    "predictions = economy_predictions + family_predictions + health_predictions + freedom_predictions + trust_predictions + generosity_predictions + dystopia_predictions\n",
    "errors = abs(predictions - score_test.values.ravel())\n",
    "accuracy = r2_score(score_test.values.ravel(), predictions)\n",
    "print('R2 score: ', accuracy)\n",
    "mape = 100 * (errors / score_test.values.ravel())\n",
    "accuracy = 100 - np.mean(mape)\n",
    "print('Accuracy: ', accuracy)\n",
    "errors"
   ]
  },
  {
   "cell_type": "code",
   "execution_count": 15,
   "metadata": {},
   "outputs": [
    {
     "name": "stdout",
     "output_type": "stream",
     "text": [
      "Correct margin:  13.740458015267176\n"
     ]
    }
   ],
   "source": [
    "#Find accuracy\n",
    "rows = len(predictions)\n",
    "tp = 0\n",
    "for i in range(rows):\n",
    "    if(predictions[i] >= low_score.loc[i, 'Low'] and predictions[i] <= high_score.loc[i, 'High']):\n",
    "        tp = tp + 1\n",
    "print('Correct margin: ', tp/rows*100)"
   ]
  },
  {
   "cell_type": "code",
   "execution_count": null,
   "metadata": {},
   "outputs": [],
   "source": []
  }
 ],
 "metadata": {
  "kernelspec": {
   "display_name": "Python 3",
   "language": "python",
   "name": "python3"
  },
  "language_info": {
   "codemirror_mode": {
    "name": "ipython",
    "version": 3
   },
   "file_extension": ".py",
   "mimetype": "text/x-python",
   "name": "python",
   "nbconvert_exporter": "python",
   "pygments_lexer": "ipython3",
   "version": "3.7.1"
  }
 },
 "nbformat": 4,
 "nbformat_minor": 2
}
